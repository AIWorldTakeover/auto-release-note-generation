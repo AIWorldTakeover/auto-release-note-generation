{
  "cells": [
    {
      "cell_type": "markdown",
      "metadata": {},
      "source": [
        "# Building Commit Data Objects from Repository\n",
        "\n",
        "This notebook demonstrates how to extract commit information from the current repository and build structured `Commit` data objects using our data models. We'll process the 5 most recent commits and display them with enhanced formatting."
      ]
    },
    {
      "cell_type": "code",
      "execution_count": 1,
      "metadata": {
        "tags": []
      },
      "outputs": [],
      "source": [
        "# Import required libraries\n",
        "import json\n",
        "import sys\n",
        "from collections import defaultdict\n",
        "from datetime import datetime\n",
        "from pathlib import Path\n",
        "\n",
        "import git\n",
        "from rich.console import Console\n",
        "from rich.panel import Panel\n",
        "from rich.syntax import Syntax\n",
        "from rich.table import Table\n",
        "from rich.tree import Tree\n",
        "\n",
        "from auto_release_note_generation.data_models.commit import Commit\n",
        "from auto_release_note_generation.data_models.shared import (\n",
        "    Diff,\n",
        "    FileModification,\n",
        "    GitActor,\n",
        "    GitMetadata,\n",
        ")\n",
        "from auto_release_note_generation.data_models.utils import GitSHA"
      ]
    },
    {
      "cell_type": "code",
      "execution_count": 2,
      "metadata": {
        "tags": []
      },
      "outputs": [],
      "source": [
        "# Add the src directory to the Python path\n",
        "project_root = Path.cwd().parent\n",
        "\n",
        "sys.path.insert(0, str(project_root / \"src\"))\n",
        "\n",
        "# Import GitPython for repository interaction\n",
        "\n",
        "# For better display\n",
        "\n",
        "# Import our data models\n",
        "\n",
        "console = Console()"
      ]
    },
    {
      "cell_type": "code",
      "execution_count": 3,
      "metadata": {},
      "outputs": [
        {
          "data": {
            "text/html": [
              "<pre style=\"white-space:pre;overflow-x:auto;line-height:normal;font-family:Menlo,'DejaVu Sans Mono',consolas,'Courier New',monospace\"><span style=\"color: #000080; text-decoration-color: #000080\">\u256d\u2500\u2500\u2500\u2500\u2500\u2500\u2500\u2500\u2500\u2500\u2500\u2500\u2500\u2500\u2500\u2500 Repository Information \u2500\u2500\u2500\u2500\u2500\u2500\u2500\u2500\u2500\u2500\u2500\u2500\u2500\u2500\u2500\u2500\u256e</span>\n",
              "<span style=\"color: #000080; text-decoration-color: #000080\">\u2502</span> <span style=\"color: #000080; text-decoration-color: #000080; font-weight: bold\">Repository:</span> /home/aj/code/auto-release-note-generation <span style=\"color: #000080; text-decoration-color: #000080\">\u2502</span>\n",
              "<span style=\"color: #000080; text-decoration-color: #000080\">\u2502</span> <span style=\"color: #000080; text-decoration-color: #000080; font-weight: bold\">Current branch:</span> aj/ai-83-jupyter-notebook-support      <span style=\"color: #000080; text-decoration-color: #000080\">\u2502</span>\n",
              "<span style=\"color: #000080; text-decoration-color: #000080\">\u2502</span> <span style=\"color: #000080; text-decoration-color: #000080; font-weight: bold\">Total commits:</span> 59                                      <span style=\"color: #000080; text-decoration-color: #000080\">\u2502</span>\n",
              "<span style=\"color: #000080; text-decoration-color: #000080\">\u2570\u2500\u2500\u2500\u2500\u2500\u2500\u2500\u2500\u2500\u2500\u2500\u2500\u2500\u2500\u2500\u2500\u2500\u2500\u2500\u2500\u2500\u2500\u2500\u2500\u2500\u2500\u2500\u2500\u2500\u2500\u2500\u2500\u2500\u2500\u2500\u2500\u2500\u2500\u2500\u2500\u2500\u2500\u2500\u2500\u2500\u2500\u2500\u2500\u2500\u2500\u2500\u2500\u2500\u2500\u2500\u2500\u256f</span>\n",
              "</pre>\n"
            ],
            "text/plain": [
              "\u001b[34m\u256d\u2500\u001b[0m\u001b[34m\u2500\u2500\u2500\u2500\u2500\u2500\u2500\u2500\u2500\u2500\u2500\u2500\u2500\u2500\u2500\u001b[0m\u001b[34m Repository Information \u001b[0m\u001b[34m\u2500\u2500\u2500\u2500\u2500\u2500\u2500\u2500\u2500\u2500\u2500\u2500\u2500\u2500\u2500\u001b[0m\u001b[34m\u2500\u256e\u001b[0m\n",
              "\u001b[34m\u2502\u001b[0m \u001b[1;34mRepository:\u001b[0m /home/aj/code/auto-release-note-generation \u001b[34m\u2502\u001b[0m\n",
              "\u001b[34m\u2502\u001b[0m \u001b[1;34mCurrent branch:\u001b[0m aj/ai-83-jupyter-notebook-support      \u001b[34m\u2502\u001b[0m\n",
              "\u001b[34m\u2502\u001b[0m \u001b[1;34mTotal commits:\u001b[0m 59                                      \u001b[34m\u2502\u001b[0m\n",
              "\u001b[34m\u2570\u2500\u2500\u2500\u2500\u2500\u2500\u2500\u2500\u2500\u2500\u2500\u2500\u2500\u2500\u2500\u2500\u2500\u2500\u2500\u2500\u2500\u2500\u2500\u2500\u2500\u2500\u2500\u2500\u2500\u2500\u2500\u2500\u2500\u2500\u2500\u2500\u2500\u2500\u2500\u2500\u2500\u2500\u2500\u2500\u2500\u2500\u2500\u2500\u2500\u2500\u2500\u2500\u2500\u2500\u2500\u2500\u256f\u001b[0m\n"
            ]
          },
          "metadata": {},
          "output_type": "display_data"
        }
      ],
      "source": [
        "# Initialize the repository\n",
        "repo = git.Repo(project_root)\n",
        "\n",
        "# Display repository information\n",
        "info_panel = Panel.fit(\n",
        "    f\"[bold blue]Repository:[/bold blue] {repo.working_dir}\\n\"\n",
        "    f\"[bold blue]Current branch:[/bold blue] {repo.active_branch.name}\\n\"\n",
        "    f\"[bold blue]Total commits:[/bold blue] {sum(1 for _ in repo.iter_commits())}\",\n",
        "    title=\"Repository Information\",\n",
        "    border_style=\"blue\",\n",
        ")\n",
        "console.print(info_panel)"
      ]
    },
    {
      "cell_type": "code",
      "execution_count": 4,
      "metadata": {},
      "outputs": [
        {
          "data": {
            "text/html": [
              "<pre style=\"white-space:pre;overflow-x:auto;line-height:normal;font-family:Menlo,'DejaVu Sans Mono',consolas,'Courier New',monospace\"><span style=\"font-style: italic\">                                        Recent Commits Overview                                         </span>\n",
              "\u250f\u2501\u2501\u2501\u2501\u2501\u2501\u2501\u2501\u2501\u2501\u2501\u2501\u2501\u2501\u2533\u2501\u2501\u2501\u2501\u2501\u2501\u2501\u2501\u2501\u2501\u2501\u2501\u2533\u2501\u2501\u2501\u2501\u2501\u2501\u2501\u2501\u2501\u2501\u2501\u2501\u2501\u2501\u2501\u2501\u2501\u2501\u2533\u2501\u2501\u2501\u2501\u2501\u2501\u2501\u2501\u2501\u2501\u2501\u2501\u2501\u2501\u2501\u2501\u2501\u2501\u2501\u2501\u2501\u2501\u2501\u2501\u2501\u2501\u2501\u2501\u2501\u2501\u2501\u2501\u2501\u2501\u2501\u2501\u2501\u2501\u2501\u2501\u2501\u2501\u2501\u2501\u2501\u2501\u2501\u2501\u2501\u2501\u2501\u2501\u2501\u2501\u2501\u2513\n",
              "\u2503<span style=\"color: #800080; text-decoration-color: #800080; font-weight: bold\"> SHA          </span>\u2503<span style=\"color: #800080; text-decoration-color: #800080; font-weight: bold\"> Author     </span>\u2503<span style=\"color: #800080; text-decoration-color: #800080; font-weight: bold\"> Date             </span>\u2503<span style=\"color: #800080; text-decoration-color: #800080; font-weight: bold\"> Summary                                               </span>\u2503\n",
              "\u2521\u2501\u2501\u2501\u2501\u2501\u2501\u2501\u2501\u2501\u2501\u2501\u2501\u2501\u2501\u2547\u2501\u2501\u2501\u2501\u2501\u2501\u2501\u2501\u2501\u2501\u2501\u2501\u2547\u2501\u2501\u2501\u2501\u2501\u2501\u2501\u2501\u2501\u2501\u2501\u2501\u2501\u2501\u2501\u2501\u2501\u2501\u2547\u2501\u2501\u2501\u2501\u2501\u2501\u2501\u2501\u2501\u2501\u2501\u2501\u2501\u2501\u2501\u2501\u2501\u2501\u2501\u2501\u2501\u2501\u2501\u2501\u2501\u2501\u2501\u2501\u2501\u2501\u2501\u2501\u2501\u2501\u2501\u2501\u2501\u2501\u2501\u2501\u2501\u2501\u2501\u2501\u2501\u2501\u2501\u2501\u2501\u2501\u2501\u2501\u2501\u2501\u2501\u2529\n",
              "\u2502<span style=\"color: #008080; text-decoration-color: #008080\"> c136f0c9     </span>\u2502<span style=\"color: #008000; text-decoration-color: #008000\"> 00arun00   </span>\u2502<span style=\"color: #808000; text-decoration-color: #808000\"> 2025-07-05 17:19 </span>\u2502<span style=\"color: #c0c0c0; text-decoration-color: #c0c0c0\"> feat(dev): add Jupyter notebook support with depen... </span>\u2502\n",
              "\u2502<span style=\"color: #008080; text-decoration-color: #008080\"> 2110ee30     </span>\u2502<span style=\"color: #008000; text-decoration-color: #008000\"> 00arun00   </span>\u2502<span style=\"color: #808000; text-decoration-color: #808000\"> 2025-07-05 17:19 </span>\u2502<span style=\"color: #c0c0c0; text-decoration-color: #c0c0c0\"> feat(dev): add Jupyter notebook support with depen... </span>\u2502\n",
              "\u2502<span style=\"color: #008080; text-decoration-color: #008080\"> c56337bb     </span>\u2502<span style=\"color: #008000; text-decoration-color: #008000\"> 00arun00   </span>\u2502<span style=\"color: #808000; text-decoration-color: #808000\"> 2025-07-05 16:55 </span>\u2502<span style=\"color: #c0c0c0; text-decoration-color: #c0c0c0\"> refactor(tests): migrate to modular strategy archi... </span>\u2502\n",
              "\u2502<span style=\"color: #008080; text-decoration-color: #008080\"> d75065a7     </span>\u2502<span style=\"color: #008000; text-decoration-color: #008000\"> 00arun00   </span>\u2502<span style=\"color: #808000; text-decoration-color: #808000\"> 2025-07-05 17:21 </span>\u2502<span style=\"color: #c0c0c0; text-decoration-color: #c0c0c0\"> docs: add comprehensive testing patterns documenta... </span>\u2502\n",
              "\u2502<span style=\"color: #008080; text-decoration-color: #008080\"> c0a82db3     </span>\u2502<span style=\"color: #008000; text-decoration-color: #008000\"> dependabot </span>\u2502<span style=\"color: #808000; text-decoration-color: #808000\"> 2025-07-06 05:21 </span>\u2502<span style=\"color: #c0c0c0; text-decoration-color: #c0c0c0\"> ci(deps): bump the actions group with 6 updates       </span>\u2502\n",
              "\u2514\u2500\u2500\u2500\u2500\u2500\u2500\u2500\u2500\u2500\u2500\u2500\u2500\u2500\u2500\u2534\u2500\u2500\u2500\u2500\u2500\u2500\u2500\u2500\u2500\u2500\u2500\u2500\u2534\u2500\u2500\u2500\u2500\u2500\u2500\u2500\u2500\u2500\u2500\u2500\u2500\u2500\u2500\u2500\u2500\u2500\u2500\u2534\u2500\u2500\u2500\u2500\u2500\u2500\u2500\u2500\u2500\u2500\u2500\u2500\u2500\u2500\u2500\u2500\u2500\u2500\u2500\u2500\u2500\u2500\u2500\u2500\u2500\u2500\u2500\u2500\u2500\u2500\u2500\u2500\u2500\u2500\u2500\u2500\u2500\u2500\u2500\u2500\u2500\u2500\u2500\u2500\u2500\u2500\u2500\u2500\u2500\u2500\u2500\u2500\u2500\u2500\u2500\u2518\n",
              "</pre>\n"
            ],
            "text/plain": [
              "\u001b[3m                                        Recent Commits Overview                                         \u001b[0m\n",
              "\u250f\u2501\u2501\u2501\u2501\u2501\u2501\u2501\u2501\u2501\u2501\u2501\u2501\u2501\u2501\u2533\u2501\u2501\u2501\u2501\u2501\u2501\u2501\u2501\u2501\u2501\u2501\u2501\u2533\u2501\u2501\u2501\u2501\u2501\u2501\u2501\u2501\u2501\u2501\u2501\u2501\u2501\u2501\u2501\u2501\u2501\u2501\u2533\u2501\u2501\u2501\u2501\u2501\u2501\u2501\u2501\u2501\u2501\u2501\u2501\u2501\u2501\u2501\u2501\u2501\u2501\u2501\u2501\u2501\u2501\u2501\u2501\u2501\u2501\u2501\u2501\u2501\u2501\u2501\u2501\u2501\u2501\u2501\u2501\u2501\u2501\u2501\u2501\u2501\u2501\u2501\u2501\u2501\u2501\u2501\u2501\u2501\u2501\u2501\u2501\u2501\u2501\u2501\u2513\n",
              "\u2503\u001b[1;35m \u001b[0m\u001b[1;35mSHA         \u001b[0m\u001b[1;35m \u001b[0m\u2503\u001b[1;35m \u001b[0m\u001b[1;35mAuthor    \u001b[0m\u001b[1;35m \u001b[0m\u2503\u001b[1;35m \u001b[0m\u001b[1;35mDate            \u001b[0m\u001b[1;35m \u001b[0m\u2503\u001b[1;35m \u001b[0m\u001b[1;35mSummary                                              \u001b[0m\u001b[1;35m \u001b[0m\u2503\n",
              "\u2521\u2501\u2501\u2501\u2501\u2501\u2501\u2501\u2501\u2501\u2501\u2501\u2501\u2501\u2501\u2547\u2501\u2501\u2501\u2501\u2501\u2501\u2501\u2501\u2501\u2501\u2501\u2501\u2547\u2501\u2501\u2501\u2501\u2501\u2501\u2501\u2501\u2501\u2501\u2501\u2501\u2501\u2501\u2501\u2501\u2501\u2501\u2547\u2501\u2501\u2501\u2501\u2501\u2501\u2501\u2501\u2501\u2501\u2501\u2501\u2501\u2501\u2501\u2501\u2501\u2501\u2501\u2501\u2501\u2501\u2501\u2501\u2501\u2501\u2501\u2501\u2501\u2501\u2501\u2501\u2501\u2501\u2501\u2501\u2501\u2501\u2501\u2501\u2501\u2501\u2501\u2501\u2501\u2501\u2501\u2501\u2501\u2501\u2501\u2501\u2501\u2501\u2501\u2529\n",
              "\u2502\u001b[36m \u001b[0m\u001b[36mc136f0c9    \u001b[0m\u001b[36m \u001b[0m\u2502\u001b[32m \u001b[0m\u001b[32m00arun00  \u001b[0m\u001b[32m \u001b[0m\u2502\u001b[33m \u001b[0m\u001b[33m2025-07-05 17:19\u001b[0m\u001b[33m \u001b[0m\u2502\u001b[37m \u001b[0m\u001b[37mfeat(dev): add Jupyter notebook support with depen...\u001b[0m\u001b[37m \u001b[0m\u2502\n",
              "\u2502\u001b[36m \u001b[0m\u001b[36m2110ee30    \u001b[0m\u001b[36m \u001b[0m\u2502\u001b[32m \u001b[0m\u001b[32m00arun00  \u001b[0m\u001b[32m \u001b[0m\u2502\u001b[33m \u001b[0m\u001b[33m2025-07-05 17:19\u001b[0m\u001b[33m \u001b[0m\u2502\u001b[37m \u001b[0m\u001b[37mfeat(dev): add Jupyter notebook support with depen...\u001b[0m\u001b[37m \u001b[0m\u2502\n",
              "\u2502\u001b[36m \u001b[0m\u001b[36mc56337bb    \u001b[0m\u001b[36m \u001b[0m\u2502\u001b[32m \u001b[0m\u001b[32m00arun00  \u001b[0m\u001b[32m \u001b[0m\u2502\u001b[33m \u001b[0m\u001b[33m2025-07-05 16:55\u001b[0m\u001b[33m \u001b[0m\u2502\u001b[37m \u001b[0m\u001b[37mrefactor(tests): migrate to modular strategy archi...\u001b[0m\u001b[37m \u001b[0m\u2502\n",
              "\u2502\u001b[36m \u001b[0m\u001b[36md75065a7    \u001b[0m\u001b[36m \u001b[0m\u2502\u001b[32m \u001b[0m\u001b[32m00arun00  \u001b[0m\u001b[32m \u001b[0m\u2502\u001b[33m \u001b[0m\u001b[33m2025-07-05 17:21\u001b[0m\u001b[33m \u001b[0m\u2502\u001b[37m \u001b[0m\u001b[37mdocs: add comprehensive testing patterns documenta...\u001b[0m\u001b[37m \u001b[0m\u2502\n",
              "\u2502\u001b[36m \u001b[0m\u001b[36mc0a82db3    \u001b[0m\u001b[36m \u001b[0m\u2502\u001b[32m \u001b[0m\u001b[32mdependabot\u001b[0m\u001b[32m \u001b[0m\u2502\u001b[33m \u001b[0m\u001b[33m2025-07-06 05:21\u001b[0m\u001b[33m \u001b[0m\u2502\u001b[37m \u001b[0m\u001b[37mci(deps): bump the actions group with 6 updates      \u001b[0m\u001b[37m \u001b[0m\u2502\n",
              "\u2514\u2500\u2500\u2500\u2500\u2500\u2500\u2500\u2500\u2500\u2500\u2500\u2500\u2500\u2500\u2534\u2500\u2500\u2500\u2500\u2500\u2500\u2500\u2500\u2500\u2500\u2500\u2500\u2534\u2500\u2500\u2500\u2500\u2500\u2500\u2500\u2500\u2500\u2500\u2500\u2500\u2500\u2500\u2500\u2500\u2500\u2500\u2534\u2500\u2500\u2500\u2500\u2500\u2500\u2500\u2500\u2500\u2500\u2500\u2500\u2500\u2500\u2500\u2500\u2500\u2500\u2500\u2500\u2500\u2500\u2500\u2500\u2500\u2500\u2500\u2500\u2500\u2500\u2500\u2500\u2500\u2500\u2500\u2500\u2500\u2500\u2500\u2500\u2500\u2500\u2500\u2500\u2500\u2500\u2500\u2500\u2500\u2500\u2500\u2500\u2500\u2500\u2500\u2518\n"
            ]
          },
          "metadata": {},
          "output_type": "display_data"
        }
      ],
      "source": [
        "# Get the first 5 commits\n",
        "commits_to_process = list(repo.iter_commits(max_count=5))\n",
        "\n",
        "# Display commit overview\n",
        "table = Table(\n",
        "    title=\"Recent Commits Overview\", show_header=True, header_style=\"bold magenta\"\n",
        ")\n",
        "table.add_column(\"SHA\", style=\"cyan\", width=12)\n",
        "table.add_column(\"Author\", style=\"green\")\n",
        "table.add_column(\"Date\", style=\"yellow\")\n",
        "table.add_column(\"Summary\", style=\"white\")\n",
        "\n",
        "for commit in commits_to_process:\n",
        "    table.add_row(\n",
        "        commit.hexsha[:8],\n",
        "        f\"{commit.author.name}\",\n",
        "        datetime.fromtimestamp(commit.authored_date).strftime(\"%Y-%m-%d %H:%M\"),\n",
        "        commit.summary[:50] + \"...\" if len(commit.summary) > 50 else commit.summary,\n",
        "    )\n",
        "\n",
        "console.print(table)"
      ]
    },
    {
      "cell_type": "markdown",
      "metadata": {},
      "source": [
        "## Helper Functions\n",
        "\n",
        "Define all the helper functions needed to build commit objects."
      ]
    },
    {
      "cell_type": "code",
      "execution_count": 5,
      "metadata": {},
      "outputs": [],
      "source": [
        "# Helper function to create GitActor from GitPython actor\n",
        "\n",
        "\n",
        "def create_git_actor(actor: git.Actor, timestamp: int) -> GitActor:\n",
        "    \"\"\"Convert GitPython Actor to our GitActor model.\"\"\"\n",
        "    return GitActor(\n",
        "        name=actor.name, email=actor.email, timestamp=datetime.fromtimestamp(timestamp)\n",
        "    )\n",
        "\n",
        "\n",
        "# Helper function to extract file modifications\n",
        "def extract_file_modifications(commit: git.Commit) -> list[FileModification]:\n",
        "    \"\"\"Extract file modifications from a commit.\"\"\"\n",
        "    modifications = []\n",
        "\n",
        "    # Get the diff compared to the parent (or empty tree for initial commit)\n",
        "    if commit.parents:\n",
        "        diffs = commit.parents[0].diff(commit)\n",
        "    else:\n",
        "        # Initial commit - compare against empty tree\n",
        "        diffs = commit.diff(git.NULL_TREE)\n",
        "\n",
        "    # Get commit stats for accurate line counts\n",
        "    stats = commit.stats.files\n",
        "\n",
        "    for diff_item in diffs:\n",
        "        # Use change_type as the primary indicator\n",
        "        change_type = diff_item.change_type\n",
        "\n",
        "        # Force correct path values based on change type\n",
        "        if change_type == \"A\":\n",
        "            # Added file - force path_before to None\n",
        "            path_before = None\n",
        "            path_after = diff_item.b_path\n",
        "            mod_type = \"A\"\n",
        "        elif change_type == \"D\":\n",
        "            # Deleted file - force path_after to None\n",
        "            path_before = diff_item.a_path\n",
        "            path_after = None\n",
        "            mod_type = \"D\"\n",
        "        elif change_type.startswith(\"R\"):  # R90, R100, etc.\n",
        "            # Renamed file - use both paths\n",
        "            path_before = diff_item.a_path\n",
        "            path_after = diff_item.b_path\n",
        "            mod_type = \"R\"\n",
        "        elif change_type == \"M\":\n",
        "            # Modified file - paths should be the same\n",
        "            path_before = diff_item.a_path\n",
        "            path_after = diff_item.b_path\n",
        "            mod_type = \"M\"\n",
        "        elif change_type.startswith(\"C\"):  # C90, C100, etc.\n",
        "            # Copied file\n",
        "            path_before = diff_item.a_path\n",
        "            path_after = diff_item.b_path\n",
        "            mod_type = \"C\"\n",
        "        elif change_type == \"T\":\n",
        "            # Type change\n",
        "            path_before = diff_item.a_path\n",
        "            path_after = diff_item.b_path\n",
        "            mod_type = \"T\"\n",
        "        else:\n",
        "            # Unknown change type\n",
        "            path_before = diff_item.a_path\n",
        "            path_after = diff_item.b_path\n",
        "            mod_type = \"X\"\n",
        "\n",
        "        # Get the file path to look up stats\n",
        "        file_path = path_after if path_after else path_before\n",
        "\n",
        "        # Get insertions and deletions from commit stats\n",
        "        insertions = 0\n",
        "        deletions = 0\n",
        "        if file_path and file_path in stats:\n",
        "            insertions = stats[file_path].get(\"insertions\", 0)\n",
        "            deletions = stats[file_path].get(\"deletions\", 0)\n",
        "\n",
        "        mod = FileModification(\n",
        "            path_before=path_before,\n",
        "            path_after=path_after,\n",
        "            modification_type=mod_type,\n",
        "            insertions=insertions,\n",
        "            deletions=deletions,\n",
        "        )\n",
        "        modifications.append(mod)\n",
        "\n",
        "    return modifications\n",
        "\n",
        "\n",
        "# Extract branches containing this commit\n",
        "def get_branches_containing_commit(repo: git.Repo, commit_sha: str) -> list[str]:\n",
        "    \"\"\"Get all branches that contain the given commit.\"\"\"\n",
        "    branches = []\n",
        "    for branch in repo.branches:\n",
        "        if commit_sha in [c.hexsha for c in repo.iter_commits(branch)]:\n",
        "            branches.append(branch.name)\n",
        "    return branches\n",
        "\n",
        "\n",
        "# Extract tags pointing to this commit\n",
        "def get_tags_for_commit(repo: git.Repo, commit_sha: str) -> list[str]:\n",
        "    \"\"\"Get all tags pointing to the given commit.\"\"\"\n",
        "    tags = []\n",
        "    for tag in repo.tags:\n",
        "        if tag.commit.hexsha == commit_sha:\n",
        "            tags.append(tag.name)\n",
        "    return tags\n",
        "\n",
        "\n",
        "# Function to build a Commit object from a GitPython commit\n",
        "def build_commit_object(git_commit: git.Commit, repo: git.Repo) -> Commit:\n",
        "    \"\"\"Build a complete Commit object from a GitPython commit.\"\"\"\n",
        "\n",
        "    # Build GitMetadata\n",
        "    git_metadata = GitMetadata(\n",
        "        sha=GitSHA(git_commit.hexsha),\n",
        "        author=create_git_actor(git_commit.author, git_commit.authored_date),\n",
        "        committer=create_git_actor(git_commit.committer, git_commit.committed_date),\n",
        "        parents=[GitSHA(p.hexsha) for p in git_commit.parents],\n",
        "        gpg_signature=(\n",
        "            git_commit.gpgsig\n",
        "            if hasattr(git_commit, \"gpgsig\") and git_commit.gpgsig\n",
        "            else None\n",
        "        ),\n",
        "    )\n",
        "\n",
        "    # Extract file modifications\n",
        "    modifications = extract_file_modifications(git_commit)\n",
        "\n",
        "    # Create affected_paths as list of tuples\n",
        "    affected_paths = [(mod.path_before, mod.path_after) for mod in modifications]\n",
        "\n",
        "    # Build Diff object\n",
        "    diff = Diff(\n",
        "        modifications=modifications,\n",
        "        files_changed_count=len(modifications),\n",
        "        insertions_count=sum(mod.insertions for mod in modifications),\n",
        "        deletions_count=sum(mod.deletions for mod in modifications),\n",
        "        affected_paths=affected_paths,\n",
        "    )\n",
        "\n",
        "    # Get commit message parts\n",
        "    commit_lines = git_commit.message.strip().split(\"\\n\")\n",
        "    summary = commit_lines[0] if commit_lines else \"\"\n",
        "    full_message = git_commit.message.strip()\n",
        "\n",
        "    # Get branches and tags\n",
        "    branches = get_branches_containing_commit(repo, git_commit.hexsha)\n",
        "    tags = get_tags_for_commit(repo, git_commit.hexsha)\n",
        "\n",
        "    # Build the complete Commit object\n",
        "    return Commit(\n",
        "        metadata=git_metadata,\n",
        "        summary=summary,\n",
        "        message=full_message,\n",
        "        branches=branches,\n",
        "        tags=tags,\n",
        "        diff=diff,\n",
        "        ai_summary=None,\n",
        "    )"
      ]
    },
    {
      "cell_type": "markdown",
      "metadata": {},
      "source": [
        "## Build Commit Objects\n",
        "\n",
        "Process all commits and build structured data objects."
      ]
    },
    {
      "cell_type": "code",
      "execution_count": 6,
      "metadata": {},
      "outputs": [
        {
          "data": {
            "text/html": [
              "<pre style=\"white-space:pre;overflow-x:auto;line-height:normal;font-family:Menlo,'DejaVu Sans Mono',consolas,'Courier New',monospace\">\n",
              "<span style=\"color: #008080; text-decoration-color: #008080; font-weight: bold\">Building Commit Objects...</span>\n",
              "\n",
              "</pre>\n"
            ],
            "text/plain": [
              "\n",
              "\u001b[1;36mBuilding Commit Objects\u001b[0m\u001b[1;36m...\u001b[0m\n",
              "\n"
            ]
          },
          "metadata": {},
          "output_type": "display_data"
        },
        {
          "data": {
            "text/html": [
              "<pre style=\"white-space:pre;overflow-x:auto;line-height:normal;font-family:Menlo,'DejaVu Sans Mono',consolas,'Courier New',monospace\">\u2705 Successfully built commit <span style=\"color: #008080; text-decoration-color: #008080; font-weight: bold\">1</span>: c136f0c9\n",
              "</pre>\n"
            ],
            "text/plain": [
              "\u2705 Successfully built commit \u001b[1;36m1\u001b[0m: c136f0c9\n"
            ]
          },
          "metadata": {},
          "output_type": "display_data"
        },
        {
          "data": {
            "text/html": [
              "<pre style=\"white-space:pre;overflow-x:auto;line-height:normal;font-family:Menlo,'DejaVu Sans Mono',consolas,'Courier New',monospace\">\u2705 Successfully built commit <span style=\"color: #008080; text-decoration-color: #008080; font-weight: bold\">2</span>: 2110ee30\n",
              "</pre>\n"
            ],
            "text/plain": [
              "\u2705 Successfully built commit \u001b[1;36m2\u001b[0m: 2110ee30\n"
            ]
          },
          "metadata": {},
          "output_type": "display_data"
        },
        {
          "data": {
            "text/html": [
              "<pre style=\"white-space:pre;overflow-x:auto;line-height:normal;font-family:Menlo,'DejaVu Sans Mono',consolas,'Courier New',monospace\">\u2705 Successfully built commit <span style=\"color: #008080; text-decoration-color: #008080; font-weight: bold\">3</span>: c56337bb\n",
              "</pre>\n"
            ],
            "text/plain": [
              "\u2705 Successfully built commit \u001b[1;36m3\u001b[0m: c56337bb\n"
            ]
          },
          "metadata": {},
          "output_type": "display_data"
        },
        {
          "data": {
            "text/html": [
              "<pre style=\"white-space:pre;overflow-x:auto;line-height:normal;font-family:Menlo,'DejaVu Sans Mono',consolas,'Courier New',monospace\">\u2705 Successfully built commit <span style=\"color: #008080; text-decoration-color: #008080; font-weight: bold\">4</span>: d75065a7\n",
              "</pre>\n"
            ],
            "text/plain": [
              "\u2705 Successfully built commit \u001b[1;36m4\u001b[0m: d75065a7\n"
            ]
          },
          "metadata": {},
          "output_type": "display_data"
        },
        {
          "data": {
            "text/html": [
              "<pre style=\"white-space:pre;overflow-x:auto;line-height:normal;font-family:Menlo,'DejaVu Sans Mono',consolas,'Courier New',monospace\">\u2705 Successfully built commit <span style=\"color: #008080; text-decoration-color: #008080; font-weight: bold\">5</span>: c0a82db3\n",
              "</pre>\n"
            ],
            "text/plain": [
              "\u2705 Successfully built commit \u001b[1;36m5\u001b[0m: c0a82db3\n"
            ]
          },
          "metadata": {},
          "output_type": "display_data"
        },
        {
          "data": {
            "text/html": [
              "<pre style=\"white-space:pre;overflow-x:auto;line-height:normal;font-family:Menlo,'DejaVu Sans Mono',consolas,'Courier New',monospace\">\n",
              "<span style=\"color: #008000; text-decoration-color: #008000; font-weight: bold\">Successfully built </span><span style=\"color: #008000; text-decoration-color: #008000; font-weight: bold\">5</span><span style=\"color: #008000; text-decoration-color: #008000; font-weight: bold\"> out of </span><span style=\"color: #008000; text-decoration-color: #008000; font-weight: bold\">5</span><span style=\"color: #008000; text-decoration-color: #008000; font-weight: bold\"> commits</span>\n",
              "</pre>\n"
            ],
            "text/plain": [
              "\n",
              "\u001b[1;32mSuccessfully built \u001b[0m\u001b[1;32m5\u001b[0m\u001b[1;32m out of \u001b[0m\u001b[1;32m5\u001b[0m\u001b[1;32m commits\u001b[0m\n"
            ]
          },
          "metadata": {},
          "output_type": "display_data"
        }
      ],
      "source": [
        "# Build Commit objects for all 5 commits\n",
        "commit_objects = []\n",
        "build_errors = []\n",
        "\n",
        "console.print(\"\\n[bold cyan]Building Commit Objects...[/bold cyan]\\n\")\n",
        "\n",
        "for i, git_commit in enumerate(commits_to_process):\n",
        "    try:\n",
        "        commit_obj = build_commit_object(git_commit, repo)\n",
        "        commit_objects.append(commit_obj)\n",
        "        console.print(\n",
        "            f\"\u2705 Successfully built commit {i + 1}: {commit_obj.get_short_sha()}\"\n",
        "        )\n",
        "    except Exception as e:\n",
        "        build_errors.append((git_commit.hexsha[:8], str(e)))\n",
        "        console.print(\n",
        "            f\"\u274c Failed to build commit {i + 1}: {git_commit.hexsha[:8]} - {e!s}\",\n",
        "            style=\"red\",\n",
        "        )\n",
        "\n",
        "num_commits = len(commits_to_process)\n",
        "num_success = len(commit_objects)\n",
        "console.print(\n",
        "    f\"\\n[bold green]Successfully built {num_success} out of \"\n",
        "    f\"{num_commits} commits[/bold green]\"\n",
        ")\n",
        "\n",
        "if build_errors:\n",
        "    console.print(\"\\n[bold red]Build Errors:[/bold red]\")\n",
        "    for sha, error in build_errors:\n",
        "        console.print(f\"  {sha}: {error}\")"
      ]
    },
    {
      "cell_type": "markdown",
      "metadata": {},
      "source": [
        "## Display Commit Information\n",
        "\n",
        "Show detailed information for each commit in a structured format."
      ]
    },
    {
      "cell_type": "code",
      "execution_count": 7,
      "metadata": {},
      "outputs": [
        {
          "data": {
            "text/html": [
              "<pre style=\"white-space:pre;overflow-x:auto;line-height:normal;font-family:Menlo,'DejaVu Sans Mono',consolas,'Courier New',monospace\"><span style=\"color: #800080; text-decoration-color: #800080; font-weight: bold\">Commit 1: c136f0c9</span>\n",
              "\u251c\u2500\u2500 <span style=\"color: #000080; text-decoration-color: #000080; font-weight: bold\">Metadata</span>\n",
              "\u2502   \u251c\u2500\u2500 Full SHA: c136f0c957da5b56f0f6174d7c78eeddfbf6e6a9\n",
              "\u2502   \u251c\u2500\u2500 Author: 00arun00 &lt;arunjoseph.ai@gmail.com&gt;\n",
              "\u2502   \u251c\u2500\u2500 Date: 2025-07-05 17:19:54\n",
              "\u2502   \u251c\u2500\u2500 Parents: 1 (2110ee30)\n",
              "\u2502   \u2514\u2500\u2500 Signed: No\n",
              "\u251c\u2500\u2500 <span style=\"color: #008000; text-decoration-color: #008000; font-weight: bold\">Message</span>\n",
              "\u2502   \u251c\u2500\u2500 Summary: feat(dev): add Jupyter notebook support with dependencies\n",
              "\u2502   \u2514\u2500\u2500 Full message: [See below]\n",
              "\u251c\u2500\u2500 <span style=\"color: #808000; text-decoration-color: #808000; font-weight: bold\">Repository Info</span>\n",
              "\u2502   \u251c\u2500\u2500 Branches: aj/ai-83-jupyter-notebook-support\n",
              "\u2502   \u2514\u2500\u2500 Tags: None\n",
              "\u2514\u2500\u2500 <span style=\"color: #800000; text-decoration-color: #800000; font-weight: bold\">Changes</span>\n",
              "    \u251c\u2500\u2500 Files changed: 3\n",
              "    \u251c\u2500\u2500 Insertions: +968\n",
              "    \u251c\u2500\u2500 Deletions: -123\n",
              "    \u251c\u2500\u2500 Total changes: 1091\n",
              "    \u2514\u2500\u2500 Modified files:\n",
              "        \u251c\u2500\u2500 M: notebooks/build_commit_object.ipynb (+889/-123)\n",
              "        \u251c\u2500\u2500 A: pr-description-updated.md (+28/-0)\n",
              "        \u2514\u2500\u2500 A: pr-description.md (+51/-0)\n",
              "</pre>\n"
            ],
            "text/plain": [
              "\u001b[1;35mCommit 1: c136f0c9\u001b[0m\n",
              "\u251c\u2500\u2500 \u001b[1;34mMetadata\u001b[0m\n",
              "\u2502   \u251c\u2500\u2500 Full SHA: c136f0c957da5b56f0f6174d7c78eeddfbf6e6a9\n",
              "\u2502   \u251c\u2500\u2500 Author: 00arun00 <arunjoseph.ai@gmail.com>\n",
              "\u2502   \u251c\u2500\u2500 Date: 2025-07-05 17:19:54\n",
              "\u2502   \u251c\u2500\u2500 Parents: 1 (2110ee30)\n",
              "\u2502   \u2514\u2500\u2500 Signed: No\n",
              "\u251c\u2500\u2500 \u001b[1;32mMessage\u001b[0m\n",
              "\u2502   \u251c\u2500\u2500 Summary: feat(dev): add Jupyter notebook support with dependencies\n",
              "\u2502   \u2514\u2500\u2500 Full message: [See below]\n",
              "\u251c\u2500\u2500 \u001b[1;33mRepository Info\u001b[0m\n",
              "\u2502   \u251c\u2500\u2500 Branches: aj/ai-83-jupyter-notebook-support\n",
              "\u2502   \u2514\u2500\u2500 Tags: None\n",
              "\u2514\u2500\u2500 \u001b[1;31mChanges\u001b[0m\n",
              "    \u251c\u2500\u2500 Files changed: 3\n",
              "    \u251c\u2500\u2500 Insertions: +968\n",
              "    \u251c\u2500\u2500 Deletions: -123\n",
              "    \u251c\u2500\u2500 Total changes: 1091\n",
              "    \u2514\u2500\u2500 Modified files:\n",
              "        \u251c\u2500\u2500 M: notebooks/build_commit_object.ipynb (+889/-123)\n",
              "        \u251c\u2500\u2500 A: pr-description-updated.md (+28/-0)\n",
              "        \u2514\u2500\u2500 A: pr-description.md (+51/-0)\n"
            ]
          },
          "metadata": {},
          "output_type": "display_data"
        },
        {
          "data": {
            "text/html": [
              "<pre style=\"white-space:pre;overflow-x:auto;line-height:normal;font-family:Menlo,'DejaVu Sans Mono',consolas,'Courier New',monospace\"><span style=\"color: #008000; text-decoration-color: #008000\">\u256d\u2500\u2500\u2500\u2500\u2500\u2500\u2500\u2500\u2500\u2500\u2500\u2500\u2500\u2500\u2500\u2500\u2500\u2500\u2500\u2500\u2500\u2500\u2500\u2500\u2500\u2500\u2500\u2500\u2500\u2500\u2500\u2500\u2500\u2500\u2500\u2500\u2500\u2500\u2500\u2500\u2500\u2500\u2500\u2500\u2500\u2500 Full Commit Message \u2500\u2500\u2500\u2500\u2500\u2500\u2500\u2500\u2500\u2500\u2500\u2500\u2500\u2500\u2500\u2500\u2500\u2500\u2500\u2500\u2500\u2500\u2500\u2500\u2500\u2500\u2500\u2500\u2500\u2500\u2500\u2500\u2500\u2500\u2500\u2500\u2500\u2500\u2500\u2500\u2500\u2500\u2500\u2500\u2500\u2500\u256e</span>\n",
              "<span style=\"color: #008000; text-decoration-color: #008000\">\u2502</span> feat(dev): add Jupyter notebook support with dependencies                                                       <span style=\"color: #008000; text-decoration-color: #008000\">\u2502</span>\n",
              "<span style=\"color: #008000; text-decoration-color: #008000\">\u2502</span>                                                                                                                 <span style=\"color: #008000; text-decoration-color: #008000\">\u2502</span>\n",
              "<span style=\"color: #008000; text-decoration-color: #008000\">\u2502</span> - Add notebook dependencies to pyproject.toml:                                                                  <span style=\"color: #008000; text-decoration-color: #008000\">\u2502</span>\n",
              "<span style=\"color: #008000; text-decoration-color: #008000\">\u2502</span>   - nbqa&gt;=1.7.0,&lt;2.0.0 for quality assurance                                                                    <span style=\"color: #008000; text-decoration-color: #008000\">\u2502</span>\n",
              "<span style=\"color: #008000; text-decoration-color: #008000\">\u2502</span>   - ipykernel&gt;=6.0.0,&lt;7.0.0 for Jupyter kernel                                                                  <span style=\"color: #008000; text-decoration-color: #008000\">\u2502</span>\n",
              "<span style=\"color: #008000; text-decoration-color: #008000\">\u2502</span>   - jupyter&gt;=1.0.0,&lt;2.0.0 for notebook interface                                                                <span style=\"color: #008000; text-decoration-color: #008000\">\u2502</span>\n",
              "<span style=\"color: #008000; text-decoration-color: #008000\">\u2502</span>   - jupyter-ruff&gt;=0.3.0,&lt;1.0.0 for formatting                                                                   <span style=\"color: #008000; text-decoration-color: #008000\">\u2502</span>\n",
              "<span style=\"color: #008000; text-decoration-color: #008000\">\u2502</span> - Create notebooks/ directory structure                                                                         <span style=\"color: #008000; text-decoration-color: #008000\">\u2502</span>\n",
              "<span style=\"color: #008000; text-decoration-color: #008000\">\u2502</span> - Add build_commit_object notebook for testing data models                                                      <span style=\"color: #008000; text-decoration-color: #008000\">\u2502</span>\n",
              "<span style=\"color: #008000; text-decoration-color: #008000\">\u2502</span> - Include commit_objects_export.json for test data                                                              <span style=\"color: #008000; text-decoration-color: #008000\">\u2502</span>\n",
              "<span style=\"color: #008000; text-decoration-color: #008000\">\u2502</span> - Add sandbox.py for quick experiments                                                                          <span style=\"color: #008000; text-decoration-color: #008000\">\u2502</span>\n",
              "<span style=\"color: #008000; text-decoration-color: #008000\">\u2502</span> - Update secrets baseline to allow Git SHAs in test data                                                        <span style=\"color: #008000; text-decoration-color: #008000\">\u2502</span>\n",
              "<span style=\"color: #008000; text-decoration-color: #008000\">\u2502</span> - Fix pre-commit nbQA configuration for newer version                                                           <span style=\"color: #008000; text-decoration-color: #008000\">\u2502</span>\n",
              "<span style=\"color: #008000; text-decoration-color: #008000\">\u2502</span> - Configure ruff to ignore notebook-specific patterns                                                           <span style=\"color: #008000; text-decoration-color: #008000\">\u2502</span>\n",
              "<span style=\"color: #008000; text-decoration-color: #008000\">\u2502</span>                                                                                                                 <span style=\"color: #008000; text-decoration-color: #008000\">\u2502</span>\n",
              "<span style=\"color: #008000; text-decoration-color: #008000\">\u2502</span> This improves developer experience for testing and prototyping                                                  <span style=\"color: #008000; text-decoration-color: #008000\">\u2502</span>\n",
              "<span style=\"color: #008000; text-decoration-color: #008000\">\u2502</span> with interactive notebooks.                                                                                     <span style=\"color: #008000; text-decoration-color: #008000\">\u2502</span>\n",
              "<span style=\"color: #008000; text-decoration-color: #008000\">\u2570\u2500\u2500\u2500\u2500\u2500\u2500\u2500\u2500\u2500\u2500\u2500\u2500\u2500\u2500\u2500\u2500\u2500\u2500\u2500\u2500\u2500\u2500\u2500\u2500\u2500\u2500\u2500\u2500\u2500\u2500\u2500\u2500\u2500\u2500\u2500\u2500\u2500\u2500\u2500\u2500\u2500\u2500\u2500\u2500\u2500\u2500\u2500\u2500\u2500\u2500\u2500\u2500\u2500\u2500\u2500\u2500\u2500\u2500\u2500\u2500\u2500\u2500\u2500\u2500\u2500\u2500\u2500\u2500\u2500\u2500\u2500\u2500\u2500\u2500\u2500\u2500\u2500\u2500\u2500\u2500\u2500\u2500\u2500\u2500\u2500\u2500\u2500\u2500\u2500\u2500\u2500\u2500\u2500\u2500\u2500\u2500\u2500\u2500\u2500\u2500\u2500\u2500\u2500\u2500\u2500\u2500\u2500\u2500\u2500\u2500\u2500\u2500\u2500\u256f</span>\n",
              "</pre>\n"
            ],
            "text/plain": [
              "\u001b[32m\u256d\u2500\u001b[0m\u001b[32m\u2500\u2500\u2500\u2500\u2500\u2500\u2500\u2500\u2500\u2500\u2500\u2500\u2500\u2500\u2500\u2500\u2500\u2500\u2500\u2500\u2500\u2500\u2500\u2500\u2500\u2500\u2500\u2500\u2500\u2500\u2500\u2500\u2500\u2500\u2500\u2500\u2500\u2500\u2500\u2500\u2500\u2500\u2500\u2500\u2500\u001b[0m\u001b[32m Full Commit Message \u001b[0m\u001b[32m\u2500\u2500\u2500\u2500\u2500\u2500\u2500\u2500\u2500\u2500\u2500\u2500\u2500\u2500\u2500\u2500\u2500\u2500\u2500\u2500\u2500\u2500\u2500\u2500\u2500\u2500\u2500\u2500\u2500\u2500\u2500\u2500\u2500\u2500\u2500\u2500\u2500\u2500\u2500\u2500\u2500\u2500\u2500\u2500\u2500\u001b[0m\u001b[32m\u2500\u256e\u001b[0m\n",
              "\u001b[32m\u2502\u001b[0m feat(dev): add Jupyter notebook support with dependencies                                                       \u001b[32m\u2502\u001b[0m\n",
              "\u001b[32m\u2502\u001b[0m                                                                                                                 \u001b[32m\u2502\u001b[0m\n",
              "\u001b[32m\u2502\u001b[0m - Add notebook dependencies to pyproject.toml:                                                                  \u001b[32m\u2502\u001b[0m\n",
              "\u001b[32m\u2502\u001b[0m   - nbqa>=1.7.0,<2.0.0 for quality assurance                                                                    \u001b[32m\u2502\u001b[0m\n",
              "\u001b[32m\u2502\u001b[0m   - ipykernel>=6.0.0,<7.0.0 for Jupyter kernel                                                                  \u001b[32m\u2502\u001b[0m\n",
              "\u001b[32m\u2502\u001b[0m   - jupyter>=1.0.0,<2.0.0 for notebook interface                                                                \u001b[32m\u2502\u001b[0m\n",
              "\u001b[32m\u2502\u001b[0m   - jupyter-ruff>=0.3.0,<1.0.0 for formatting                                                                   \u001b[32m\u2502\u001b[0m\n",
              "\u001b[32m\u2502\u001b[0m - Create notebooks/ directory structure                                                                         \u001b[32m\u2502\u001b[0m\n",
              "\u001b[32m\u2502\u001b[0m - Add build_commit_object notebook for testing data models                                                      \u001b[32m\u2502\u001b[0m\n",
              "\u001b[32m\u2502\u001b[0m - Include commit_objects_export.json for test data                                                              \u001b[32m\u2502\u001b[0m\n",
              "\u001b[32m\u2502\u001b[0m - Add sandbox.py for quick experiments                                                                          \u001b[32m\u2502\u001b[0m\n",
              "\u001b[32m\u2502\u001b[0m - Update secrets baseline to allow Git SHAs in test data                                                        \u001b[32m\u2502\u001b[0m\n",
              "\u001b[32m\u2502\u001b[0m - Fix pre-commit nbQA configuration for newer version                                                           \u001b[32m\u2502\u001b[0m\n",
              "\u001b[32m\u2502\u001b[0m - Configure ruff to ignore notebook-specific patterns                                                           \u001b[32m\u2502\u001b[0m\n",
              "\u001b[32m\u2502\u001b[0m                                                                                                                 \u001b[32m\u2502\u001b[0m\n",
              "\u001b[32m\u2502\u001b[0m This improves developer experience for testing and prototyping                                                  \u001b[32m\u2502\u001b[0m\n",
              "\u001b[32m\u2502\u001b[0m with interactive notebooks.                                                                                     \u001b[32m\u2502\u001b[0m\n",
              "\u001b[32m\u2570\u2500\u2500\u2500\u2500\u2500\u2500\u2500\u2500\u2500\u2500\u2500\u2500\u2500\u2500\u2500\u2500\u2500\u2500\u2500\u2500\u2500\u2500\u2500\u2500\u2500\u2500\u2500\u2500\u2500\u2500\u2500\u2500\u2500\u2500\u2500\u2500\u2500\u2500\u2500\u2500\u2500\u2500\u2500\u2500\u2500\u2500\u2500\u2500\u2500\u2500\u2500\u2500\u2500\u2500\u2500\u2500\u2500\u2500\u2500\u2500\u2500\u2500\u2500\u2500\u2500\u2500\u2500\u2500\u2500\u2500\u2500\u2500\u2500\u2500\u2500\u2500\u2500\u2500\u2500\u2500\u2500\u2500\u2500\u2500\u2500\u2500\u2500\u2500\u2500\u2500\u2500\u2500\u2500\u2500\u2500\u2500\u2500\u2500\u2500\u2500\u2500\u2500\u2500\u2500\u2500\u2500\u2500\u2500\u2500\u2500\u2500\u2500\u2500\u256f\u001b[0m\n"
            ]
          },
          "metadata": {},
          "output_type": "display_data"
        },
        {
          "data": {
            "text/html": [
              "<pre style=\"white-space:pre;overflow-x:auto;line-height:normal;font-family:Menlo,'DejaVu Sans Mono',consolas,'Courier New',monospace\">\n",
              "</pre>\n"
            ],
            "text/plain": [
              "\n"
            ]
          },
          "metadata": {},
          "output_type": "display_data"
        },
        {
          "data": {
            "text/html": [
              "<pre style=\"white-space:pre;overflow-x:auto;line-height:normal;font-family:Menlo,'DejaVu Sans Mono',consolas,'Courier New',monospace\"><span style=\"color: #800080; text-decoration-color: #800080; font-weight: bold\">Commit 2: 2110ee30</span>\n",
              "\u251c\u2500\u2500 <span style=\"color: #000080; text-decoration-color: #000080; font-weight: bold\">Metadata</span>\n",
              "\u2502   \u251c\u2500\u2500 Full SHA: 2110ee3033c74cc5452c2e431229c0f73f5b9c1c\n",
              "\u2502   \u251c\u2500\u2500 Author: 00arun00 &lt;arunjoseph.ai@gmail.com&gt;\n",
              "\u2502   \u251c\u2500\u2500 Date: 2025-07-05 17:19:54\n",
              "\u2502   \u251c\u2500\u2500 Parents: 1 (c56337bb)\n",
              "\u2502   \u2514\u2500\u2500 Signed: No\n",
              "\u251c\u2500\u2500 <span style=\"color: #008000; text-decoration-color: #008000; font-weight: bold\">Message</span>\n",
              "\u2502   \u251c\u2500\u2500 Summary: feat(dev): add Jupyter notebook support with dependencies\n",
              "\u2502   \u2514\u2500\u2500 Full message: [See below]\n",
              "\u251c\u2500\u2500 <span style=\"color: #808000; text-decoration-color: #808000; font-weight: bold\">Repository Info</span>\n",
              "\u2502   \u251c\u2500\u2500 Branches: aj/ai-83-jupyter-notebook-support, main\n",
              "\u2502   \u2514\u2500\u2500 Tags: None\n",
              "\u2514\u2500\u2500 <span style=\"color: #800000; text-decoration-color: #800000; font-weight: bold\">Changes</span>\n",
              "    \u251c\u2500\u2500 Files changed: 7\n",
              "    \u251c\u2500\u2500 Insertions: +2163\n",
              "    \u251c\u2500\u2500 Deletions: -244\n",
              "    \u251c\u2500\u2500 Total changes: 2407\n",
              "    \u2514\u2500\u2500 Modified files:\n",
              "        \u251c\u2500\u2500 M: .pre-commit-config.yaml (+4/-2)\n",
              "        \u251c\u2500\u2500 M: .secrets.baseline (+52/-1)\n",
              "        \u251c\u2500\u2500 A: notebooks/build_commit_object.ipynb (+708/-0)\n",
              "        \u251c\u2500\u2500 A: notebooks/commit_objects_export.json (+330/-0)\n",
              "        \u251c\u2500\u2500 A: notebooks/sandbox.py (+5/-0)\n",
              "        \u2514\u2500\u2500 ... and 2 more files\n",
              "</pre>\n"
            ],
            "text/plain": [
              "\u001b[1;35mCommit 2: 2110ee30\u001b[0m\n",
              "\u251c\u2500\u2500 \u001b[1;34mMetadata\u001b[0m\n",
              "\u2502   \u251c\u2500\u2500 Full SHA: 2110ee3033c74cc5452c2e431229c0f73f5b9c1c\n",
              "\u2502   \u251c\u2500\u2500 Author: 00arun00 <arunjoseph.ai@gmail.com>\n",
              "\u2502   \u251c\u2500\u2500 Date: 2025-07-05 17:19:54\n",
              "\u2502   \u251c\u2500\u2500 Parents: 1 (c56337bb)\n",
              "\u2502   \u2514\u2500\u2500 Signed: No\n",
              "\u251c\u2500\u2500 \u001b[1;32mMessage\u001b[0m\n",
              "\u2502   \u251c\u2500\u2500 Summary: feat(dev): add Jupyter notebook support with dependencies\n",
              "\u2502   \u2514\u2500\u2500 Full message: [See below]\n",
              "\u251c\u2500\u2500 \u001b[1;33mRepository Info\u001b[0m\n",
              "\u2502   \u251c\u2500\u2500 Branches: aj/ai-83-jupyter-notebook-support, main\n",
              "\u2502   \u2514\u2500\u2500 Tags: None\n",
              "\u2514\u2500\u2500 \u001b[1;31mChanges\u001b[0m\n",
              "    \u251c\u2500\u2500 Files changed: 7\n",
              "    \u251c\u2500\u2500 Insertions: +2163\n",
              "    \u251c\u2500\u2500 Deletions: -244\n",
              "    \u251c\u2500\u2500 Total changes: 2407\n",
              "    \u2514\u2500\u2500 Modified files:\n",
              "        \u251c\u2500\u2500 M: .pre-commit-config.yaml (+4/-2)\n",
              "        \u251c\u2500\u2500 M: .secrets.baseline (+52/-1)\n",
              "        \u251c\u2500\u2500 A: notebooks/build_commit_object.ipynb (+708/-0)\n",
              "        \u251c\u2500\u2500 A: notebooks/commit_objects_export.json (+330/-0)\n",
              "        \u251c\u2500\u2500 A: notebooks/sandbox.py (+5/-0)\n",
              "        \u2514\u2500\u2500 ... and 2 more files\n"
            ]
          },
          "metadata": {},
          "output_type": "display_data"
        },
        {
          "data": {
            "text/html": [
              "<pre style=\"white-space:pre;overflow-x:auto;line-height:normal;font-family:Menlo,'DejaVu Sans Mono',consolas,'Courier New',monospace\"><span style=\"color: #008000; text-decoration-color: #008000\">\u256d\u2500\u2500\u2500\u2500\u2500\u2500\u2500\u2500\u2500\u2500\u2500\u2500\u2500\u2500\u2500\u2500\u2500\u2500\u2500\u2500\u2500\u2500\u2500\u2500\u2500\u2500\u2500\u2500\u2500\u2500\u2500\u2500\u2500\u2500\u2500\u2500\u2500\u2500\u2500\u2500\u2500\u2500\u2500\u2500\u2500\u2500 Full Commit Message \u2500\u2500\u2500\u2500\u2500\u2500\u2500\u2500\u2500\u2500\u2500\u2500\u2500\u2500\u2500\u2500\u2500\u2500\u2500\u2500\u2500\u2500\u2500\u2500\u2500\u2500\u2500\u2500\u2500\u2500\u2500\u2500\u2500\u2500\u2500\u2500\u2500\u2500\u2500\u2500\u2500\u2500\u2500\u2500\u2500\u2500\u256e</span>\n",
              "<span style=\"color: #008000; text-decoration-color: #008000\">\u2502</span> feat(dev): add Jupyter notebook support with dependencies                                                       <span style=\"color: #008000; text-decoration-color: #008000\">\u2502</span>\n",
              "<span style=\"color: #008000; text-decoration-color: #008000\">\u2502</span>                                                                                                                 <span style=\"color: #008000; text-decoration-color: #008000\">\u2502</span>\n",
              "<span style=\"color: #008000; text-decoration-color: #008000\">\u2502</span> - Add notebook dependencies to pyproject.toml:                                                                  <span style=\"color: #008000; text-decoration-color: #008000\">\u2502</span>\n",
              "<span style=\"color: #008000; text-decoration-color: #008000\">\u2502</span>   - nbqa&gt;=1.7.0,&lt;2.0.0 for quality assurance                                                                    <span style=\"color: #008000; text-decoration-color: #008000\">\u2502</span>\n",
              "<span style=\"color: #008000; text-decoration-color: #008000\">\u2502</span>   - ipykernel&gt;=6.0.0,&lt;7.0.0 for Jupyter kernel                                                                  <span style=\"color: #008000; text-decoration-color: #008000\">\u2502</span>\n",
              "<span style=\"color: #008000; text-decoration-color: #008000\">\u2502</span>   - jupyter&gt;=1.0.0,&lt;2.0.0 for notebook interface                                                                <span style=\"color: #008000; text-decoration-color: #008000\">\u2502</span>\n",
              "<span style=\"color: #008000; text-decoration-color: #008000\">\u2502</span>   - jupyter-ruff&gt;=0.3.0,&lt;1.0.0 for formatting                                                                   <span style=\"color: #008000; text-decoration-color: #008000\">\u2502</span>\n",
              "<span style=\"color: #008000; text-decoration-color: #008000\">\u2502</span> - Create notebooks/ directory structure                                                                         <span style=\"color: #008000; text-decoration-color: #008000\">\u2502</span>\n",
              "<span style=\"color: #008000; text-decoration-color: #008000\">\u2502</span> - Add build_commit_object notebook for testing data models                                                      <span style=\"color: #008000; text-decoration-color: #008000\">\u2502</span>\n",
              "<span style=\"color: #008000; text-decoration-color: #008000\">\u2502</span> - Include commit_objects_export.json for test data                                                              <span style=\"color: #008000; text-decoration-color: #008000\">\u2502</span>\n",
              "<span style=\"color: #008000; text-decoration-color: #008000\">\u2502</span> - Add sandbox.py for quick experiments                                                                          <span style=\"color: #008000; text-decoration-color: #008000\">\u2502</span>\n",
              "<span style=\"color: #008000; text-decoration-color: #008000\">\u2502</span> - Update secrets baseline to allow Git SHAs in test data                                                        <span style=\"color: #008000; text-decoration-color: #008000\">\u2502</span>\n",
              "<span style=\"color: #008000; text-decoration-color: #008000\">\u2502</span> - Fix pre-commit nbQA configuration for newer version                                                           <span style=\"color: #008000; text-decoration-color: #008000\">\u2502</span>\n",
              "<span style=\"color: #008000; text-decoration-color: #008000\">\u2502</span> - Configure ruff to ignore notebook-specific patterns                                                           <span style=\"color: #008000; text-decoration-color: #008000\">\u2502</span>\n",
              "<span style=\"color: #008000; text-decoration-color: #008000\">\u2502</span>                                                                                                                 <span style=\"color: #008000; text-decoration-color: #008000\">\u2502</span>\n",
              "<span style=\"color: #008000; text-decoration-color: #008000\">\u2502</span> This improves developer experience for testing and prototyping                                                  <span style=\"color: #008000; text-decoration-color: #008000\">\u2502</span>\n",
              "<span style=\"color: #008000; text-decoration-color: #008000\">\u2502</span> with interactive notebooks.                                                                                     <span style=\"color: #008000; text-decoration-color: #008000\">\u2502</span>\n",
              "<span style=\"color: #008000; text-decoration-color: #008000\">\u2570\u2500\u2500\u2500\u2500\u2500\u2500\u2500\u2500\u2500\u2500\u2500\u2500\u2500\u2500\u2500\u2500\u2500\u2500\u2500\u2500\u2500\u2500\u2500\u2500\u2500\u2500\u2500\u2500\u2500\u2500\u2500\u2500\u2500\u2500\u2500\u2500\u2500\u2500\u2500\u2500\u2500\u2500\u2500\u2500\u2500\u2500\u2500\u2500\u2500\u2500\u2500\u2500\u2500\u2500\u2500\u2500\u2500\u2500\u2500\u2500\u2500\u2500\u2500\u2500\u2500\u2500\u2500\u2500\u2500\u2500\u2500\u2500\u2500\u2500\u2500\u2500\u2500\u2500\u2500\u2500\u2500\u2500\u2500\u2500\u2500\u2500\u2500\u2500\u2500\u2500\u2500\u2500\u2500\u2500\u2500\u2500\u2500\u2500\u2500\u2500\u2500\u2500\u2500\u2500\u2500\u2500\u2500\u2500\u2500\u2500\u2500\u2500\u2500\u256f</span>\n",
              "</pre>\n"
            ],
            "text/plain": [
              "\u001b[32m\u256d\u2500\u001b[0m\u001b[32m\u2500\u2500\u2500\u2500\u2500\u2500\u2500\u2500\u2500\u2500\u2500\u2500\u2500\u2500\u2500\u2500\u2500\u2500\u2500\u2500\u2500\u2500\u2500\u2500\u2500\u2500\u2500\u2500\u2500\u2500\u2500\u2500\u2500\u2500\u2500\u2500\u2500\u2500\u2500\u2500\u2500\u2500\u2500\u2500\u2500\u001b[0m\u001b[32m Full Commit Message \u001b[0m\u001b[32m\u2500\u2500\u2500\u2500\u2500\u2500\u2500\u2500\u2500\u2500\u2500\u2500\u2500\u2500\u2500\u2500\u2500\u2500\u2500\u2500\u2500\u2500\u2500\u2500\u2500\u2500\u2500\u2500\u2500\u2500\u2500\u2500\u2500\u2500\u2500\u2500\u2500\u2500\u2500\u2500\u2500\u2500\u2500\u2500\u2500\u001b[0m\u001b[32m\u2500\u256e\u001b[0m\n",
              "\u001b[32m\u2502\u001b[0m feat(dev): add Jupyter notebook support with dependencies                                                       \u001b[32m\u2502\u001b[0m\n",
              "\u001b[32m\u2502\u001b[0m                                                                                                                 \u001b[32m\u2502\u001b[0m\n",
              "\u001b[32m\u2502\u001b[0m - Add notebook dependencies to pyproject.toml:                                                                  \u001b[32m\u2502\u001b[0m\n",
              "\u001b[32m\u2502\u001b[0m   - nbqa>=1.7.0,<2.0.0 for quality assurance                                                                    \u001b[32m\u2502\u001b[0m\n",
              "\u001b[32m\u2502\u001b[0m   - ipykernel>=6.0.0,<7.0.0 for Jupyter kernel                                                                  \u001b[32m\u2502\u001b[0m\n",
              "\u001b[32m\u2502\u001b[0m   - jupyter>=1.0.0,<2.0.0 for notebook interface                                                                \u001b[32m\u2502\u001b[0m\n",
              "\u001b[32m\u2502\u001b[0m   - jupyter-ruff>=0.3.0,<1.0.0 for formatting                                                                   \u001b[32m\u2502\u001b[0m\n",
              "\u001b[32m\u2502\u001b[0m - Create notebooks/ directory structure                                                                         \u001b[32m\u2502\u001b[0m\n",
              "\u001b[32m\u2502\u001b[0m - Add build_commit_object notebook for testing data models                                                      \u001b[32m\u2502\u001b[0m\n",
              "\u001b[32m\u2502\u001b[0m - Include commit_objects_export.json for test data                                                              \u001b[32m\u2502\u001b[0m\n",
              "\u001b[32m\u2502\u001b[0m - Add sandbox.py for quick experiments                                                                          \u001b[32m\u2502\u001b[0m\n",
              "\u001b[32m\u2502\u001b[0m - Update secrets baseline to allow Git SHAs in test data                                                        \u001b[32m\u2502\u001b[0m\n",
              "\u001b[32m\u2502\u001b[0m - Fix pre-commit nbQA configuration for newer version                                                           \u001b[32m\u2502\u001b[0m\n",
              "\u001b[32m\u2502\u001b[0m - Configure ruff to ignore notebook-specific patterns                                                           \u001b[32m\u2502\u001b[0m\n",
              "\u001b[32m\u2502\u001b[0m                                                                                                                 \u001b[32m\u2502\u001b[0m\n",
              "\u001b[32m\u2502\u001b[0m This improves developer experience for testing and prototyping                                                  \u001b[32m\u2502\u001b[0m\n",
              "\u001b[32m\u2502\u001b[0m with interactive notebooks.                                                                                     \u001b[32m\u2502\u001b[0m\n",
              "\u001b[32m\u2570\u2500\u2500\u2500\u2500\u2500\u2500\u2500\u2500\u2500\u2500\u2500\u2500\u2500\u2500\u2500\u2500\u2500\u2500\u2500\u2500\u2500\u2500\u2500\u2500\u2500\u2500\u2500\u2500\u2500\u2500\u2500\u2500\u2500\u2500\u2500\u2500\u2500\u2500\u2500\u2500\u2500\u2500\u2500\u2500\u2500\u2500\u2500\u2500\u2500\u2500\u2500\u2500\u2500\u2500\u2500\u2500\u2500\u2500\u2500\u2500\u2500\u2500\u2500\u2500\u2500\u2500\u2500\u2500\u2500\u2500\u2500\u2500\u2500\u2500\u2500\u2500\u2500\u2500\u2500\u2500\u2500\u2500\u2500\u2500\u2500\u2500\u2500\u2500\u2500\u2500\u2500\u2500\u2500\u2500\u2500\u2500\u2500\u2500\u2500\u2500\u2500\u2500\u2500\u2500\u2500\u2500\u2500\u2500\u2500\u2500\u2500\u2500\u2500\u256f\u001b[0m\n"
            ]
          },
          "metadata": {},
          "output_type": "display_data"
        },
        {
          "data": {
            "text/html": [
              "<pre style=\"white-space:pre;overflow-x:auto;line-height:normal;font-family:Menlo,'DejaVu Sans Mono',consolas,'Courier New',monospace\">\n",
              "</pre>\n"
            ],
            "text/plain": [
              "\n"
            ]
          },
          "metadata": {},
          "output_type": "display_data"
        },
        {
          "data": {
            "text/html": [
              "<pre style=\"white-space:pre;overflow-x:auto;line-height:normal;font-family:Menlo,'DejaVu Sans Mono',consolas,'Courier New',monospace\"><span style=\"color: #800080; text-decoration-color: #800080; font-weight: bold\">Commit 3: c56337bb</span>\n",
              "\u251c\u2500\u2500 <span style=\"color: #000080; text-decoration-color: #000080; font-weight: bold\">Metadata</span>\n",
              "\u2502   \u251c\u2500\u2500 Full SHA: c56337bb2a05fe3153b472dabd9b5352c87a5a24\n",
              "\u2502   \u251c\u2500\u2500 Author: 00arun00 &lt;arunjoseph.ai@gmail.com&gt;\n",
              "\u2502   \u251c\u2500\u2500 Date: 2025-07-05 16:55:22\n",
              "\u2502   \u251c\u2500\u2500 Parents: 1 (d75065a7)\n",
              "\u2502   \u2514\u2500\u2500 Signed: No\n",
              "\u251c\u2500\u2500 <span style=\"color: #008000; text-decoration-color: #008000; font-weight: bold\">Message</span>\n",
              "\u2502   \u251c\u2500\u2500 Summary: refactor(tests): migrate to modular strategy architecture\n",
              "\u2502   \u2514\u2500\u2500 Full message: [See below]\n",
              "\u251c\u2500\u2500 <span style=\"color: #808000; text-decoration-color: #808000; font-weight: bold\">Repository Info</span>\n",
              "\u2502   \u251c\u2500\u2500 Branches: aj/ai-83-jupyter-notebook-support, aj/ai-88-add-codecov-to-pr-checks, main\n",
              "\u2502   \u2514\u2500\u2500 Tags: None\n",
              "\u2514\u2500\u2500 <span style=\"color: #800000; text-decoration-color: #800000; font-weight: bold\">Changes</span>\n",
              "    \u251c\u2500\u2500 Files changed: 15\n",
              "    \u251c\u2500\u2500 Insertions: +2317\n",
              "    \u251c\u2500\u2500 Deletions: -530\n",
              "    \u251c\u2500\u2500 Total changes: 2847\n",
              "    \u2514\u2500\u2500 Modified files:\n",
              "        \u251c\u2500\u2500 M: .secrets.baseline (+5/-5)\n",
              "        \u251c\u2500\u2500 A: tests/data_models/strategies/README.md (+110/-0)\n",
              "        \u251c\u2500\u2500 A: tests/data_models/strategies/__init__.py (+144/-0)\n",
              "        \u251c\u2500\u2500 A: tests/data_models/strategies/actors.py (+198/-0)\n",
              "        \u251c\u2500\u2500 A: tests/data_models/strategies/base.py (+155/-0)\n",
              "        \u2514\u2500\u2500 ... and 10 more files\n",
              "</pre>\n"
            ],
            "text/plain": [
              "\u001b[1;35mCommit 3: c56337bb\u001b[0m\n",
              "\u251c\u2500\u2500 \u001b[1;34mMetadata\u001b[0m\n",
              "\u2502   \u251c\u2500\u2500 Full SHA: c56337bb2a05fe3153b472dabd9b5352c87a5a24\n",
              "\u2502   \u251c\u2500\u2500 Author: 00arun00 <arunjoseph.ai@gmail.com>\n",
              "\u2502   \u251c\u2500\u2500 Date: 2025-07-05 16:55:22\n",
              "\u2502   \u251c\u2500\u2500 Parents: 1 (d75065a7)\n",
              "\u2502   \u2514\u2500\u2500 Signed: No\n",
              "\u251c\u2500\u2500 \u001b[1;32mMessage\u001b[0m\n",
              "\u2502   \u251c\u2500\u2500 Summary: refactor(tests): migrate to modular strategy architecture\n",
              "\u2502   \u2514\u2500\u2500 Full message: [See below]\n",
              "\u251c\u2500\u2500 \u001b[1;33mRepository Info\u001b[0m\n",
              "\u2502   \u251c\u2500\u2500 Branches: aj/ai-83-jupyter-notebook-support, aj/ai-88-add-codecov-to-pr-checks, main\n",
              "\u2502   \u2514\u2500\u2500 Tags: None\n",
              "\u2514\u2500\u2500 \u001b[1;31mChanges\u001b[0m\n",
              "    \u251c\u2500\u2500 Files changed: 15\n",
              "    \u251c\u2500\u2500 Insertions: +2317\n",
              "    \u251c\u2500\u2500 Deletions: -530\n",
              "    \u251c\u2500\u2500 Total changes: 2847\n",
              "    \u2514\u2500\u2500 Modified files:\n",
              "        \u251c\u2500\u2500 M: .secrets.baseline (+5/-5)\n",
              "        \u251c\u2500\u2500 A: tests/data_models/strategies/README.md (+110/-0)\n",
              "        \u251c\u2500\u2500 A: tests/data_models/strategies/__init__.py (+144/-0)\n",
              "        \u251c\u2500\u2500 A: tests/data_models/strategies/actors.py (+198/-0)\n",
              "        \u251c\u2500\u2500 A: tests/data_models/strategies/base.py (+155/-0)\n",
              "        \u2514\u2500\u2500 ... and 10 more files\n"
            ]
          },
          "metadata": {},
          "output_type": "display_data"
        },
        {
          "data": {
            "text/html": [
              "<pre style=\"white-space:pre;overflow-x:auto;line-height:normal;font-family:Menlo,'DejaVu Sans Mono',consolas,'Courier New',monospace\"><span style=\"color: #008000; text-decoration-color: #008000\">\u256d\u2500\u2500\u2500\u2500\u2500\u2500\u2500\u2500\u2500\u2500\u2500\u2500\u2500\u2500\u2500\u2500\u2500\u2500\u2500\u2500\u2500\u2500\u2500\u2500\u2500\u2500\u2500\u2500\u2500\u2500\u2500\u2500\u2500\u2500\u2500\u2500\u2500\u2500\u2500\u2500\u2500\u2500\u2500\u2500\u2500\u2500 Full Commit Message \u2500\u2500\u2500\u2500\u2500\u2500\u2500\u2500\u2500\u2500\u2500\u2500\u2500\u2500\u2500\u2500\u2500\u2500\u2500\u2500\u2500\u2500\u2500\u2500\u2500\u2500\u2500\u2500\u2500\u2500\u2500\u2500\u2500\u2500\u2500\u2500\u2500\u2500\u2500\u2500\u2500\u2500\u2500\u2500\u2500\u2500\u256e</span>\n",
              "<span style=\"color: #008000; text-decoration-color: #008000\">\u2502</span> refactor(tests): migrate to modular strategy architecture                                                       <span style=\"color: #008000; text-decoration-color: #008000\">\u2502</span>\n",
              "<span style=\"color: #008000; text-decoration-color: #008000\">\u2502</span>                                                                                                                 <span style=\"color: #008000; text-decoration-color: #008000\">\u2502</span>\n",
              "<span style=\"color: #008000; text-decoration-color: #008000\">\u2502</span> - Delete monolithic tests/data_models/test_strategies.py                                                        <span style=\"color: #008000; text-decoration-color: #008000\">\u2502</span>\n",
              "<span style=\"color: #008000; text-decoration-color: #008000\">\u2502</span> - Create modular strategies/ directory with domain-specific modules:                                            <span style=\"color: #008000; text-decoration-color: #008000\">\u2502</span>\n",
              "<span style=\"color: #008000; text-decoration-color: #008000\">\u2502</span>   - base.py: Common utilities and helper functions                                                              <span style=\"color: #008000; text-decoration-color: #008000\">\u2502</span>\n",
              "<span style=\"color: #008000; text-decoration-color: #008000\">\u2502</span>   - utils.py: GitSHA and GPG signature strategies                                                               <span style=\"color: #008000; text-decoration-color: #008000\">\u2502</span>\n",
              "<span style=\"color: #008000; text-decoration-color: #008000\">\u2502</span>   - actors.py: GitActor-specific strategies                                                                     <span style=\"color: #008000; text-decoration-color: #008000\">\u2502</span>\n",
              "<span style=\"color: #008000; text-decoration-color: #008000\">\u2502</span>   - metadata.py: GitMetadata and ChangeMetadata strategies                                                      <span style=\"color: #008000; text-decoration-color: #008000\">\u2502</span>\n",
              "<span style=\"color: #008000; text-decoration-color: #008000\">\u2502</span>   - files.py: FileModification and Diff strategies                                                              <span style=\"color: #008000; text-decoration-color: #008000\">\u2502</span>\n",
              "<span style=\"color: #008000; text-decoration-color: #008000\">\u2502</span>   - commits.py: Commit-specific strategies                                                                      <span style=\"color: #008000; text-decoration-color: #008000\">\u2502</span>\n",
              "<span style=\"color: #008000; text-decoration-color: #008000\">\u2502</span> - Update all test files to use new modular imports                                                              <span style=\"color: #008000; text-decoration-color: #008000\">\u2502</span>\n",
              "<span style=\"color: #008000; text-decoration-color: #008000\">\u2502</span> - Strategies now generate model instances instead of raw data                                                   <span style=\"color: #008000; text-decoration-color: #008000\">\u2502</span>\n",
              "<span style=\"color: #008000; text-decoration-color: #008000\">\u2502</span> - Improve type safety and composability                                                                         <span style=\"color: #008000; text-decoration-color: #008000\">\u2502</span>\n",
              "<span style=\"color: #008000; text-decoration-color: #008000\">\u2502</span>                                                                                                                 <span style=\"color: #008000; text-decoration-color: #008000\">\u2502</span>\n",
              "<span style=\"color: #008000; text-decoration-color: #008000\">\u2502</span> This refactoring improves test maintainability by organizing strategies                                         <span style=\"color: #008000; text-decoration-color: #008000\">\u2502</span>\n",
              "<span style=\"color: #008000; text-decoration-color: #008000\">\u2502</span> by domain and providing better building blocks for complex test scenarios.                                      <span style=\"color: #008000; text-decoration-color: #008000\">\u2502</span>\n",
              "<span style=\"color: #008000; text-decoration-color: #008000\">\u2570\u2500\u2500\u2500\u2500\u2500\u2500\u2500\u2500\u2500\u2500\u2500\u2500\u2500\u2500\u2500\u2500\u2500\u2500\u2500\u2500\u2500\u2500\u2500\u2500\u2500\u2500\u2500\u2500\u2500\u2500\u2500\u2500\u2500\u2500\u2500\u2500\u2500\u2500\u2500\u2500\u2500\u2500\u2500\u2500\u2500\u2500\u2500\u2500\u2500\u2500\u2500\u2500\u2500\u2500\u2500\u2500\u2500\u2500\u2500\u2500\u2500\u2500\u2500\u2500\u2500\u2500\u2500\u2500\u2500\u2500\u2500\u2500\u2500\u2500\u2500\u2500\u2500\u2500\u2500\u2500\u2500\u2500\u2500\u2500\u2500\u2500\u2500\u2500\u2500\u2500\u2500\u2500\u2500\u2500\u2500\u2500\u2500\u2500\u2500\u2500\u2500\u2500\u2500\u2500\u2500\u2500\u2500\u2500\u2500\u2500\u2500\u2500\u2500\u256f</span>\n",
              "</pre>\n"
            ],
            "text/plain": [
              "\u001b[32m\u256d\u2500\u001b[0m\u001b[32m\u2500\u2500\u2500\u2500\u2500\u2500\u2500\u2500\u2500\u2500\u2500\u2500\u2500\u2500\u2500\u2500\u2500\u2500\u2500\u2500\u2500\u2500\u2500\u2500\u2500\u2500\u2500\u2500\u2500\u2500\u2500\u2500\u2500\u2500\u2500\u2500\u2500\u2500\u2500\u2500\u2500\u2500\u2500\u2500\u2500\u001b[0m\u001b[32m Full Commit Message \u001b[0m\u001b[32m\u2500\u2500\u2500\u2500\u2500\u2500\u2500\u2500\u2500\u2500\u2500\u2500\u2500\u2500\u2500\u2500\u2500\u2500\u2500\u2500\u2500\u2500\u2500\u2500\u2500\u2500\u2500\u2500\u2500\u2500\u2500\u2500\u2500\u2500\u2500\u2500\u2500\u2500\u2500\u2500\u2500\u2500\u2500\u2500\u2500\u001b[0m\u001b[32m\u2500\u256e\u001b[0m\n",
              "\u001b[32m\u2502\u001b[0m refactor(tests): migrate to modular strategy architecture                                                       \u001b[32m\u2502\u001b[0m\n",
              "\u001b[32m\u2502\u001b[0m                                                                                                                 \u001b[32m\u2502\u001b[0m\n",
              "\u001b[32m\u2502\u001b[0m - Delete monolithic tests/data_models/test_strategies.py                                                        \u001b[32m\u2502\u001b[0m\n",
              "\u001b[32m\u2502\u001b[0m - Create modular strategies/ directory with domain-specific modules:                                            \u001b[32m\u2502\u001b[0m\n",
              "\u001b[32m\u2502\u001b[0m   - base.py: Common utilities and helper functions                                                              \u001b[32m\u2502\u001b[0m\n",
              "\u001b[32m\u2502\u001b[0m   - utils.py: GitSHA and GPG signature strategies                                                               \u001b[32m\u2502\u001b[0m\n",
              "\u001b[32m\u2502\u001b[0m   - actors.py: GitActor-specific strategies                                                                     \u001b[32m\u2502\u001b[0m\n",
              "\u001b[32m\u2502\u001b[0m   - metadata.py: GitMetadata and ChangeMetadata strategies                                                      \u001b[32m\u2502\u001b[0m\n",
              "\u001b[32m\u2502\u001b[0m   - files.py: FileModification and Diff strategies                                                              \u001b[32m\u2502\u001b[0m\n",
              "\u001b[32m\u2502\u001b[0m   - commits.py: Commit-specific strategies                                                                      \u001b[32m\u2502\u001b[0m\n",
              "\u001b[32m\u2502\u001b[0m - Update all test files to use new modular imports                                                              \u001b[32m\u2502\u001b[0m\n",
              "\u001b[32m\u2502\u001b[0m - Strategies now generate model instances instead of raw data                                                   \u001b[32m\u2502\u001b[0m\n",
              "\u001b[32m\u2502\u001b[0m - Improve type safety and composability                                                                         \u001b[32m\u2502\u001b[0m\n",
              "\u001b[32m\u2502\u001b[0m                                                                                                                 \u001b[32m\u2502\u001b[0m\n",
              "\u001b[32m\u2502\u001b[0m This refactoring improves test maintainability by organizing strategies                                         \u001b[32m\u2502\u001b[0m\n",
              "\u001b[32m\u2502\u001b[0m by domain and providing better building blocks for complex test scenarios.                                      \u001b[32m\u2502\u001b[0m\n",
              "\u001b[32m\u2570\u2500\u2500\u2500\u2500\u2500\u2500\u2500\u2500\u2500\u2500\u2500\u2500\u2500\u2500\u2500\u2500\u2500\u2500\u2500\u2500\u2500\u2500\u2500\u2500\u2500\u2500\u2500\u2500\u2500\u2500\u2500\u2500\u2500\u2500\u2500\u2500\u2500\u2500\u2500\u2500\u2500\u2500\u2500\u2500\u2500\u2500\u2500\u2500\u2500\u2500\u2500\u2500\u2500\u2500\u2500\u2500\u2500\u2500\u2500\u2500\u2500\u2500\u2500\u2500\u2500\u2500\u2500\u2500\u2500\u2500\u2500\u2500\u2500\u2500\u2500\u2500\u2500\u2500\u2500\u2500\u2500\u2500\u2500\u2500\u2500\u2500\u2500\u2500\u2500\u2500\u2500\u2500\u2500\u2500\u2500\u2500\u2500\u2500\u2500\u2500\u2500\u2500\u2500\u2500\u2500\u2500\u2500\u2500\u2500\u2500\u2500\u2500\u2500\u256f\u001b[0m\n"
            ]
          },
          "metadata": {},
          "output_type": "display_data"
        },
        {
          "data": {
            "text/html": [
              "<pre style=\"white-space:pre;overflow-x:auto;line-height:normal;font-family:Menlo,'DejaVu Sans Mono',consolas,'Courier New',monospace\">\n",
              "</pre>\n"
            ],
            "text/plain": [
              "\n"
            ]
          },
          "metadata": {},
          "output_type": "display_data"
        },
        {
          "data": {
            "text/html": [
              "<pre style=\"white-space:pre;overflow-x:auto;line-height:normal;font-family:Menlo,'DejaVu Sans Mono',consolas,'Courier New',monospace\"><span style=\"color: #800080; text-decoration-color: #800080; font-weight: bold\">Commit 4: d75065a7</span>\n",
              "\u251c\u2500\u2500 <span style=\"color: #000080; text-decoration-color: #000080; font-weight: bold\">Metadata</span>\n",
              "\u2502   \u251c\u2500\u2500 Full SHA: d75065a782f907bde069da805814873bed82d450\n",
              "\u2502   \u251c\u2500\u2500 Author: 00arun00 &lt;arunjoseph.ai@gmail.com&gt;\n",
              "\u2502   \u251c\u2500\u2500 Date: 2025-07-05 17:21:50\n",
              "\u2502   \u251c\u2500\u2500 Parents: 1 (c0a82db3)\n",
              "\u2502   \u2514\u2500\u2500 Signed: No\n",
              "\u251c\u2500\u2500 <span style=\"color: #008000; text-decoration-color: #008000; font-weight: bold\">Message</span>\n",
              "\u2502   \u251c\u2500\u2500 Summary: docs: add comprehensive testing patterns documentation\n",
              "\u2502   \u2514\u2500\u2500 Full message: [See below]\n",
              "\u251c\u2500\u2500 <span style=\"color: #808000; text-decoration-color: #808000; font-weight: bold\">Repository Info</span>\n",
              "\u2502   \u251c\u2500\u2500 Branches: aj/ai-83-jupyter-notebook-support, aj/ai-88-add-codecov-to-pr-checks, main\n",
              "\u2502   \u2514\u2500\u2500 Tags: None\n",
              "\u2514\u2500\u2500 <span style=\"color: #800000; text-decoration-color: #800000; font-weight: bold\">Changes</span>\n",
              "    \u251c\u2500\u2500 Files changed: 2\n",
              "    \u251c\u2500\u2500 Insertions: +1078\n",
              "    \u251c\u2500\u2500 Deletions: -424\n",
              "    \u251c\u2500\u2500 Total changes: 1502\n",
              "    \u2514\u2500\u2500 Modified files:\n",
              "        \u251c\u2500\u2500 A: docs/test-strategy-refactoring.md (+559/-0)\n",
              "        \u2514\u2500\u2500 M: docs/testing-patterns.md (+519/-424)\n",
              "</pre>\n"
            ],
            "text/plain": [
              "\u001b[1;35mCommit 4: d75065a7\u001b[0m\n",
              "\u251c\u2500\u2500 \u001b[1;34mMetadata\u001b[0m\n",
              "\u2502   \u251c\u2500\u2500 Full SHA: d75065a782f907bde069da805814873bed82d450\n",
              "\u2502   \u251c\u2500\u2500 Author: 00arun00 <arunjoseph.ai@gmail.com>\n",
              "\u2502   \u251c\u2500\u2500 Date: 2025-07-05 17:21:50\n",
              "\u2502   \u251c\u2500\u2500 Parents: 1 (c0a82db3)\n",
              "\u2502   \u2514\u2500\u2500 Signed: No\n",
              "\u251c\u2500\u2500 \u001b[1;32mMessage\u001b[0m\n",
              "\u2502   \u251c\u2500\u2500 Summary: docs: add comprehensive testing patterns documentation\n",
              "\u2502   \u2514\u2500\u2500 Full message: [See below]\n",
              "\u251c\u2500\u2500 \u001b[1;33mRepository Info\u001b[0m\n",
              "\u2502   \u251c\u2500\u2500 Branches: aj/ai-83-jupyter-notebook-support, aj/ai-88-add-codecov-to-pr-checks, main\n",
              "\u2502   \u2514\u2500\u2500 Tags: None\n",
              "\u2514\u2500\u2500 \u001b[1;31mChanges\u001b[0m\n",
              "    \u251c\u2500\u2500 Files changed: 2\n",
              "    \u251c\u2500\u2500 Insertions: +1078\n",
              "    \u251c\u2500\u2500 Deletions: -424\n",
              "    \u251c\u2500\u2500 Total changes: 1502\n",
              "    \u2514\u2500\u2500 Modified files:\n",
              "        \u251c\u2500\u2500 A: docs/test-strategy-refactoring.md (+559/-0)\n",
              "        \u2514\u2500\u2500 M: docs/testing-patterns.md (+519/-424)\n"
            ]
          },
          "metadata": {},
          "output_type": "display_data"
        },
        {
          "data": {
            "text/html": [
              "<pre style=\"white-space:pre;overflow-x:auto;line-height:normal;font-family:Menlo,'DejaVu Sans Mono',consolas,'Courier New',monospace\"><span style=\"color: #008000; text-decoration-color: #008000\">\u256d\u2500\u2500\u2500\u2500\u2500\u2500\u2500\u2500\u2500\u2500\u2500\u2500\u2500\u2500\u2500\u2500\u2500\u2500\u2500\u2500\u2500\u2500\u2500\u2500\u2500\u2500\u2500\u2500\u2500\u2500\u2500\u2500\u2500\u2500\u2500\u2500\u2500\u2500\u2500\u2500\u2500\u2500\u2500\u2500\u2500\u2500 Full Commit Message \u2500\u2500\u2500\u2500\u2500\u2500\u2500\u2500\u2500\u2500\u2500\u2500\u2500\u2500\u2500\u2500\u2500\u2500\u2500\u2500\u2500\u2500\u2500\u2500\u2500\u2500\u2500\u2500\u2500\u2500\u2500\u2500\u2500\u2500\u2500\u2500\u2500\u2500\u2500\u2500\u2500\u2500\u2500\u2500\u2500\u2500\u256e</span>\n",
              "<span style=\"color: #008000; text-decoration-color: #008000\">\u2502</span> docs: add comprehensive testing patterns documentation                                                          <span style=\"color: #008000; text-decoration-color: #008000\">\u2502</span>\n",
              "<span style=\"color: #008000; text-decoration-color: #008000\">\u2502</span>                                                                                                                 <span style=\"color: #008000; text-decoration-color: #008000\">\u2502</span>\n",
              "<span style=\"color: #008000; text-decoration-color: #008000\">\u2502</span> - Update docs/testing-patterns.md with:                                                                         <span style=\"color: #008000; text-decoration-color: #008000\">\u2502</span>\n",
              "<span style=\"color: #008000; text-decoration-color: #008000\">\u2502</span>   - Overview of modular strategy architecture                                                                   <span style=\"color: #008000; text-decoration-color: #008000\">\u2502</span>\n",
              "<span style=\"color: #008000; text-decoration-color: #008000\">\u2502</span>   - Examples of strategy composition                                                                            <span style=\"color: #008000; text-decoration-color: #008000\">\u2502</span>\n",
              "<span style=\"color: #008000; text-decoration-color: #008000\">\u2502</span>   - Best practices for creating new strategies                                                                  <span style=\"color: #008000; text-decoration-color: #008000\">\u2502</span>\n",
              "<span style=\"color: #008000; text-decoration-color: #008000\">\u2502</span>   - Migration guide from old patterns                                                                           <span style=\"color: #008000; text-decoration-color: #008000\">\u2502</span>\n",
              "<span style=\"color: #008000; text-decoration-color: #008000\">\u2502</span>   - Detailed examples for each strategy type                                                                    <span style=\"color: #008000; text-decoration-color: #008000\">\u2502</span>\n",
              "<span style=\"color: #008000; text-decoration-color: #008000\">\u2502</span> - Add docs/test-strategy-refactoring.md outlining:                                                              <span style=\"color: #008000; text-decoration-color: #008000\">\u2502</span>\n",
              "<span style=\"color: #008000; text-decoration-color: #008000\">\u2502</span>   - Potential future improvements                                                                               <span style=\"color: #008000; text-decoration-color: #008000\">\u2502</span>\n",
              "<span style=\"color: #008000; text-decoration-color: #008000\">\u2502</span>   - Co-location of strategies with data models                                                                  <span style=\"color: #008000; text-decoration-color: #008000\">\u2502</span>\n",
              "<span style=\"color: #008000; text-decoration-color: #008000\">\u2502</span>   - Benefits of the refactoring approach                                                                        <span style=\"color: #008000; text-decoration-color: #008000\">\u2502</span>\n",
              "<span style=\"color: #008000; text-decoration-color: #008000\">\u2502</span>                                                                                                                 <span style=\"color: #008000; text-decoration-color: #008000\">\u2502</span>\n",
              "<span style=\"color: #008000; text-decoration-color: #008000\">\u2502</span> This documentation helps developers understand and effectively use                                              <span style=\"color: #008000; text-decoration-color: #008000\">\u2502</span>\n",
              "<span style=\"color: #008000; text-decoration-color: #008000\">\u2502</span> the new modular testing infrastructure.                                                                         <span style=\"color: #008000; text-decoration-color: #008000\">\u2502</span>\n",
              "<span style=\"color: #008000; text-decoration-color: #008000\">\u2570\u2500\u2500\u2500\u2500\u2500\u2500\u2500\u2500\u2500\u2500\u2500\u2500\u2500\u2500\u2500\u2500\u2500\u2500\u2500\u2500\u2500\u2500\u2500\u2500\u2500\u2500\u2500\u2500\u2500\u2500\u2500\u2500\u2500\u2500\u2500\u2500\u2500\u2500\u2500\u2500\u2500\u2500\u2500\u2500\u2500\u2500\u2500\u2500\u2500\u2500\u2500\u2500\u2500\u2500\u2500\u2500\u2500\u2500\u2500\u2500\u2500\u2500\u2500\u2500\u2500\u2500\u2500\u2500\u2500\u2500\u2500\u2500\u2500\u2500\u2500\u2500\u2500\u2500\u2500\u2500\u2500\u2500\u2500\u2500\u2500\u2500\u2500\u2500\u2500\u2500\u2500\u2500\u2500\u2500\u2500\u2500\u2500\u2500\u2500\u2500\u2500\u2500\u2500\u2500\u2500\u2500\u2500\u2500\u2500\u2500\u2500\u2500\u2500\u256f</span>\n",
              "</pre>\n"
            ],
            "text/plain": [
              "\u001b[32m\u256d\u2500\u001b[0m\u001b[32m\u2500\u2500\u2500\u2500\u2500\u2500\u2500\u2500\u2500\u2500\u2500\u2500\u2500\u2500\u2500\u2500\u2500\u2500\u2500\u2500\u2500\u2500\u2500\u2500\u2500\u2500\u2500\u2500\u2500\u2500\u2500\u2500\u2500\u2500\u2500\u2500\u2500\u2500\u2500\u2500\u2500\u2500\u2500\u2500\u2500\u001b[0m\u001b[32m Full Commit Message \u001b[0m\u001b[32m\u2500\u2500\u2500\u2500\u2500\u2500\u2500\u2500\u2500\u2500\u2500\u2500\u2500\u2500\u2500\u2500\u2500\u2500\u2500\u2500\u2500\u2500\u2500\u2500\u2500\u2500\u2500\u2500\u2500\u2500\u2500\u2500\u2500\u2500\u2500\u2500\u2500\u2500\u2500\u2500\u2500\u2500\u2500\u2500\u2500\u001b[0m\u001b[32m\u2500\u256e\u001b[0m\n",
              "\u001b[32m\u2502\u001b[0m docs: add comprehensive testing patterns documentation                                                          \u001b[32m\u2502\u001b[0m\n",
              "\u001b[32m\u2502\u001b[0m                                                                                                                 \u001b[32m\u2502\u001b[0m\n",
              "\u001b[32m\u2502\u001b[0m - Update docs/testing-patterns.md with:                                                                         \u001b[32m\u2502\u001b[0m\n",
              "\u001b[32m\u2502\u001b[0m   - Overview of modular strategy architecture                                                                   \u001b[32m\u2502\u001b[0m\n",
              "\u001b[32m\u2502\u001b[0m   - Examples of strategy composition                                                                            \u001b[32m\u2502\u001b[0m\n",
              "\u001b[32m\u2502\u001b[0m   - Best practices for creating new strategies                                                                  \u001b[32m\u2502\u001b[0m\n",
              "\u001b[32m\u2502\u001b[0m   - Migration guide from old patterns                                                                           \u001b[32m\u2502\u001b[0m\n",
              "\u001b[32m\u2502\u001b[0m   - Detailed examples for each strategy type                                                                    \u001b[32m\u2502\u001b[0m\n",
              "\u001b[32m\u2502\u001b[0m - Add docs/test-strategy-refactoring.md outlining:                                                              \u001b[32m\u2502\u001b[0m\n",
              "\u001b[32m\u2502\u001b[0m   - Potential future improvements                                                                               \u001b[32m\u2502\u001b[0m\n",
              "\u001b[32m\u2502\u001b[0m   - Co-location of strategies with data models                                                                  \u001b[32m\u2502\u001b[0m\n",
              "\u001b[32m\u2502\u001b[0m   - Benefits of the refactoring approach                                                                        \u001b[32m\u2502\u001b[0m\n",
              "\u001b[32m\u2502\u001b[0m                                                                                                                 \u001b[32m\u2502\u001b[0m\n",
              "\u001b[32m\u2502\u001b[0m This documentation helps developers understand and effectively use                                              \u001b[32m\u2502\u001b[0m\n",
              "\u001b[32m\u2502\u001b[0m the new modular testing infrastructure.                                                                         \u001b[32m\u2502\u001b[0m\n",
              "\u001b[32m\u2570\u2500\u2500\u2500\u2500\u2500\u2500\u2500\u2500\u2500\u2500\u2500\u2500\u2500\u2500\u2500\u2500\u2500\u2500\u2500\u2500\u2500\u2500\u2500\u2500\u2500\u2500\u2500\u2500\u2500\u2500\u2500\u2500\u2500\u2500\u2500\u2500\u2500\u2500\u2500\u2500\u2500\u2500\u2500\u2500\u2500\u2500\u2500\u2500\u2500\u2500\u2500\u2500\u2500\u2500\u2500\u2500\u2500\u2500\u2500\u2500\u2500\u2500\u2500\u2500\u2500\u2500\u2500\u2500\u2500\u2500\u2500\u2500\u2500\u2500\u2500\u2500\u2500\u2500\u2500\u2500\u2500\u2500\u2500\u2500\u2500\u2500\u2500\u2500\u2500\u2500\u2500\u2500\u2500\u2500\u2500\u2500\u2500\u2500\u2500\u2500\u2500\u2500\u2500\u2500\u2500\u2500\u2500\u2500\u2500\u2500\u2500\u2500\u2500\u256f\u001b[0m\n"
            ]
          },
          "metadata": {},
          "output_type": "display_data"
        },
        {
          "data": {
            "text/html": [
              "<pre style=\"white-space:pre;overflow-x:auto;line-height:normal;font-family:Menlo,'DejaVu Sans Mono',consolas,'Courier New',monospace\">\n",
              "</pre>\n"
            ],
            "text/plain": [
              "\n"
            ]
          },
          "metadata": {},
          "output_type": "display_data"
        },
        {
          "data": {
            "text/html": [
              "<pre style=\"white-space:pre;overflow-x:auto;line-height:normal;font-family:Menlo,'DejaVu Sans Mono',consolas,'Courier New',monospace\"><span style=\"color: #800080; text-decoration-color: #800080; font-weight: bold\">Commit 5: c0a82db3</span>\n",
              "\u251c\u2500\u2500 <span style=\"color: #000080; text-decoration-color: #000080; font-weight: bold\">Metadata</span>\n",
              "\u2502   \u251c\u2500\u2500 Full SHA: c0a82db39e99d00c5ee920901c03b038f4fc7ab2\n",
              "\u2502   \u251c\u2500\u2500 Author: dependabot &lt;49699333+dependabot@users.noreply.github.com&gt;\n",
              "\u2502   \u251c\u2500\u2500 Date: 2025-07-06 05:21:10\n",
              "\u2502   \u251c\u2500\u2500 Parents: 1 (c71479b8)\n",
              "\u2502   \u2514\u2500\u2500 Signed: No\n",
              "\u251c\u2500\u2500 <span style=\"color: #008000; text-decoration-color: #008000; font-weight: bold\">Message</span>\n",
              "\u2502   \u251c\u2500\u2500 Summary: ci(deps): bump the actions group with 6 updates\n",
              "\u2502   \u2514\u2500\u2500 Full message: [See below]\n",
              "\u251c\u2500\u2500 <span style=\"color: #808000; text-decoration-color: #808000; font-weight: bold\">Repository Info</span>\n",
              "\u2502   \u251c\u2500\u2500 Branches: aj/ai-83-jupyter-notebook-support, aj/ai-88-add-codecov-to-pr-checks, main, \n",
              "\u2502   \u2502   test-refactoring-with-docs, test-refactoring-with-docs-backup\n",
              "\u2502   \u2514\u2500\u2500 Tags: None\n",
              "\u2514\u2500\u2500 <span style=\"color: #800000; text-decoration-color: #800000; font-weight: bold\">Changes</span>\n",
              "    \u251c\u2500\u2500 Files changed: 12\n",
              "    \u251c\u2500\u2500 Insertions: +49\n",
              "    \u251c\u2500\u2500 Deletions: -49\n",
              "    \u251c\u2500\u2500 Total changes: 98\n",
              "    \u2514\u2500\u2500 Modified files:\n",
              "        \u251c\u2500\u2500 M: .github/workflows/ci.yml (+1/-1)\n",
              "        \u251c\u2500\u2500 M: .github/workflows/developer-tools.yml (+7/-7)\n",
              "        \u251c\u2500\u2500 M: .github/workflows/main-branch.yml (+7/-7)\n",
              "        \u251c\u2500\u2500 M: .github/workflows/nightly.yml (+5/-5)\n",
              "        \u251c\u2500\u2500 M: .github/workflows/pr-checks.yml (+4/-4)\n",
              "        \u2514\u2500\u2500 ... and 7 more files\n",
              "</pre>\n"
            ],
            "text/plain": [
              "\u001b[1;35mCommit 5: c0a82db3\u001b[0m\n",
              "\u251c\u2500\u2500 \u001b[1;34mMetadata\u001b[0m\n",
              "\u2502   \u251c\u2500\u2500 Full SHA: c0a82db39e99d00c5ee920901c03b038f4fc7ab2\n",
              "\u2502   \u251c\u2500\u2500 Author: dependabot <49699333+dependabot@users.noreply.github.com>\n",
              "\u2502   \u251c\u2500\u2500 Date: 2025-07-06 05:21:10\n",
              "\u2502   \u251c\u2500\u2500 Parents: 1 (c71479b8)\n",
              "\u2502   \u2514\u2500\u2500 Signed: No\n",
              "\u251c\u2500\u2500 \u001b[1;32mMessage\u001b[0m\n",
              "\u2502   \u251c\u2500\u2500 Summary: ci(deps): bump the actions group with 6 updates\n",
              "\u2502   \u2514\u2500\u2500 Full message: [See below]\n",
              "\u251c\u2500\u2500 \u001b[1;33mRepository Info\u001b[0m\n",
              "\u2502   \u251c\u2500\u2500 Branches: aj/ai-83-jupyter-notebook-support, aj/ai-88-add-codecov-to-pr-checks, main, \n",
              "\u2502   \u2502   test-refactoring-with-docs, test-refactoring-with-docs-backup\n",
              "\u2502   \u2514\u2500\u2500 Tags: None\n",
              "\u2514\u2500\u2500 \u001b[1;31mChanges\u001b[0m\n",
              "    \u251c\u2500\u2500 Files changed: 12\n",
              "    \u251c\u2500\u2500 Insertions: +49\n",
              "    \u251c\u2500\u2500 Deletions: -49\n",
              "    \u251c\u2500\u2500 Total changes: 98\n",
              "    \u2514\u2500\u2500 Modified files:\n",
              "        \u251c\u2500\u2500 M: .github/workflows/ci.yml (+1/-1)\n",
              "        \u251c\u2500\u2500 M: .github/workflows/developer-tools.yml (+7/-7)\n",
              "        \u251c\u2500\u2500 M: .github/workflows/main-branch.yml (+7/-7)\n",
              "        \u251c\u2500\u2500 M: .github/workflows/nightly.yml (+5/-5)\n",
              "        \u251c\u2500\u2500 M: .github/workflows/pr-checks.yml (+4/-4)\n",
              "        \u2514\u2500\u2500 ... and 7 more files\n"
            ]
          },
          "metadata": {},
          "output_type": "display_data"
        },
        {
          "data": {
            "text/html": [
              "<pre style=\"white-space:pre;overflow-x:auto;line-height:normal;font-family:Menlo,'DejaVu Sans Mono',consolas,'Courier New',monospace\"><span style=\"color: #008000; text-decoration-color: #008000\">\u256d\u2500\u2500\u2500\u2500\u2500\u2500\u2500\u2500\u2500\u2500\u2500\u2500\u2500\u2500\u2500\u2500\u2500\u2500\u2500\u2500\u2500\u2500\u2500\u2500\u2500\u2500\u2500\u2500\u2500\u2500\u2500\u2500\u2500\u2500\u2500\u2500\u2500\u2500\u2500\u2500\u2500\u2500\u2500\u2500\u2500\u2500 Full Commit Message \u2500\u2500\u2500\u2500\u2500\u2500\u2500\u2500\u2500\u2500\u2500\u2500\u2500\u2500\u2500\u2500\u2500\u2500\u2500\u2500\u2500\u2500\u2500\u2500\u2500\u2500\u2500\u2500\u2500\u2500\u2500\u2500\u2500\u2500\u2500\u2500\u2500\u2500\u2500\u2500\u2500\u2500\u2500\u2500\u2500\u2500\u256e</span>\n",
              "<span style=\"color: #008000; text-decoration-color: #008000\">\u2502</span> ci(deps): bump the actions group with 6 updates                                                                 <span style=\"color: #008000; text-decoration-color: #008000\">\u2502</span>\n",
              "<span style=\"color: #008000; text-decoration-color: #008000\">\u2502</span>                                                                                                                 <span style=\"color: #008000; text-decoration-color: #008000\">\u2502</span>\n",
              "<span style=\"color: #008000; text-decoration-color: #008000\">\u2502</span> Bumps the actions group with 6 updates:                                                                         <span style=\"color: #008000; text-decoration-color: #008000\">\u2502</span>\n",
              "<span style=\"color: #008000; text-decoration-color: #008000\">\u2502</span>                                                                                                                 <span style=\"color: #008000; text-decoration-color: #008000\">\u2502</span>\n",
              "<span style=\"color: #008000; text-decoration-color: #008000\">\u2502</span> | Package | From | To |                                                                                         <span style=\"color: #008000; text-decoration-color: #008000\">\u2502</span>\n",
              "<span style=\"color: #008000; text-decoration-color: #008000\">\u2502</span> | --- | --- | --- |                                                                                             <span style=\"color: #008000; text-decoration-color: #008000\">\u2502</span>\n",
              "<span style=\"color: #008000; text-decoration-color: #008000\">\u2502</span> | (https://github.com/actions/checkout) | `4.1.7` | `4.2.2` |                                                   <span style=\"color: #008000; text-decoration-color: #008000\">\u2502</span>\n",
              "<span style=\"color: #008000; text-decoration-color: #008000\">\u2502</span> | (https://github.com/peter-evans/create-pull-request) | `7.0.5` | `7.0.8` |                                    <span style=\"color: #008000; text-decoration-color: #008000\">\u2502</span>\n",
              "<span style=\"color: #008000; text-decoration-color: #008000\">\u2502</span> | (https://github.com/actions/upload-artifact) | `4.4.0` | `4.6.2` |                                            <span style=\"color: #008000; text-decoration-color: #008000\">\u2502</span>\n",
              "<span style=\"color: #008000; text-decoration-color: #008000\">\u2502</span> | (https://github.com/github/codeql-action) | `3.26.6` | `3.29.2` |                                             <span style=\"color: #008000; text-decoration-color: #008000\">\u2502</span>\n",
              "<span style=\"color: #008000; text-decoration-color: #008000\">\u2502</span> | (https://github.com/actions/download-artifact) | `4.1.8` | `4.3.0` |                                          <span style=\"color: #008000; text-decoration-color: #008000\">\u2502</span>\n",
              "<span style=\"color: #008000; text-decoration-color: #008000\">\u2502</span> | (https://github.com/softprops/action-gh-release) | `2.0.8` | `2.3.2` |                                        <span style=\"color: #008000; text-decoration-color: #008000\">\u2502</span>\n",
              "<span style=\"color: #008000; text-decoration-color: #008000\">\u2502</span>                                                                                                                 <span style=\"color: #008000; text-decoration-color: #008000\">\u2502</span>\n",
              "<span style=\"color: #008000; text-decoration-color: #008000\">\u2502</span>                                                                                                                 <span style=\"color: #008000; text-decoration-color: #008000\">\u2502</span>\n",
              "<span style=\"color: #008000; text-decoration-color: #008000\">\u2502</span> Updates `actions/checkout` from 4.1.7 to 4.2.2                                                                  <span style=\"color: #008000; text-decoration-color: #008000\">\u2502</span>\n",
              "<span style=\"color: #008000; text-decoration-color: #008000\">\u2502</span> - [Release notes](https://github.com/actions/checkout/releases)                                                 <span style=\"color: #008000; text-decoration-color: #008000\">\u2502</span>\n",
              "<span style=\"color: #008000; text-decoration-color: #008000\">\u2502</span> - [Changelog](https://github.com/actions/checkout/blob/main/CHANGELOG.md)                                       <span style=\"color: #008000; text-decoration-color: #008000\">\u2502</span>\n",
              "<span style=\"color: #008000; text-decoration-color: #008000\">\u2502</span> -                                                                                                               <span style=\"color: #008000; text-decoration-color: #008000\">\u2502</span>\n",
              "<span style=\"color: #008000; text-decoration-color: #008000\">\u2502</span> [Commits](https://github.com/actions/checkout/compare/692973e3d937129bcbf40652eb9f2f61becf3332...11bd71901bbe5b <span style=\"color: #008000; text-decoration-color: #008000\">\u2502</span>\n",
              "<span style=\"color: #008000; text-decoration-color: #008000\">\u2502</span> 1630ceea73d27597364c9af683)                                                                                     <span style=\"color: #008000; text-decoration-color: #008000\">\u2502</span>\n",
              "<span style=\"color: #008000; text-decoration-color: #008000\">\u2502</span>                                                                                                                 <span style=\"color: #008000; text-decoration-color: #008000\">\u2502</span>\n",
              "<span style=\"color: #008000; text-decoration-color: #008000\">\u2502</span> Updates `peter-evans/create-pull-request` from 7.0.5 to 7.0.8                                                   <span style=\"color: #008000; text-decoration-color: #008000\">\u2502</span>\n",
              "<span style=\"color: #008000; text-decoration-color: #008000\">\u2502</span> - [Release notes](https://github.com/peter-evans/create-pull-request/releases)                                  <span style=\"color: #008000; text-decoration-color: #008000\">\u2502</span>\n",
              "<span style=\"color: #008000; text-decoration-color: #008000\">\u2502</span> -                                                                                                               <span style=\"color: #008000; text-decoration-color: #008000\">\u2502</span>\n",
              "<span style=\"color: #008000; text-decoration-color: #008000\">\u2502</span> [Commits](https://github.com/peter-evans/create-pull-request/compare/5e914681df9dc83aa4e4905692ca88beb2f9e91f.. <span style=\"color: #008000; text-decoration-color: #008000\">\u2502</span>\n",
              "<span style=\"color: #008000; text-decoration-color: #008000\">\u2502</span> .271a8d0340265f705b14b6d32b9829c1cb33d45e)                                                                      <span style=\"color: #008000; text-decoration-color: #008000\">\u2502</span>\n",
              "<span style=\"color: #008000; text-decoration-color: #008000\">\u2502</span>                                                                                                                 <span style=\"color: #008000; text-decoration-color: #008000\">\u2502</span>\n",
              "<span style=\"color: #008000; text-decoration-color: #008000\">\u2502</span> Updates `actions/upload-artifact` from 4.4.0 to 4.6.2                                                           <span style=\"color: #008000; text-decoration-color: #008000\">\u2502</span>\n",
              "<span style=\"color: #008000; text-decoration-color: #008000\">\u2502</span> - [Release notes](https://github.com/actions/upload-artifact/releases)                                          <span style=\"color: #008000; text-decoration-color: #008000\">\u2502</span>\n",
              "<span style=\"color: #008000; text-decoration-color: #008000\">\u2502</span> -                                                                                                               <span style=\"color: #008000; text-decoration-color: #008000\">\u2502</span>\n",
              "<span style=\"color: #008000; text-decoration-color: #008000\">\u2502</span> [Commits](https://github.com/actions/upload-artifact/compare/50769540e7f4bd5e21e526ee35c689e35e0d6874...ea165f8 <span style=\"color: #008000; text-decoration-color: #008000\">\u2502</span>\n",
              "<span style=\"color: #008000; text-decoration-color: #008000\">\u2502</span> d65b6e75b540449e92b4886f43607fa02)                                                                              <span style=\"color: #008000; text-decoration-color: #008000\">\u2502</span>\n",
              "<span style=\"color: #008000; text-decoration-color: #008000\">\u2502</span>                                                                                                                 <span style=\"color: #008000; text-decoration-color: #008000\">\u2502</span>\n",
              "<span style=\"color: #008000; text-decoration-color: #008000\">\u2502</span> Updates `github/codeql-action` from 3.26.6 to 3.29.2                                                            <span style=\"color: #008000; text-decoration-color: #008000\">\u2502</span>\n",
              "<span style=\"color: #008000; text-decoration-color: #008000\">\u2502</span> - [Release notes](https://github.com/github/codeql-action/releases)                                             <span style=\"color: #008000; text-decoration-color: #008000\">\u2502</span>\n",
              "<span style=\"color: #008000; text-decoration-color: #008000\">\u2502</span> - [Changelog](https://github.com/github/codeql-action/blob/main/CHANGELOG.md)                                   <span style=\"color: #008000; text-decoration-color: #008000\">\u2502</span>\n",
              "<span style=\"color: #008000; text-decoration-color: #008000\">\u2502</span> -                                                                                                               <span style=\"color: #008000; text-decoration-color: #008000\">\u2502</span>\n",
              "<span style=\"color: #008000; text-decoration-color: #008000\">\u2502</span> [Commits](https://github.com/github/codeql-action/compare/4dd16135b69a43b6c8efb853346f8437d92d3c93...181d5eefc2 <span style=\"color: #008000; text-decoration-color: #008000\">\u2502</span>\n",
              "<span style=\"color: #008000; text-decoration-color: #008000\">\u2502</span> 0863364f96762470ba6f862bdef56b)                                                                                 <span style=\"color: #008000; text-decoration-color: #008000\">\u2502</span>\n",
              "<span style=\"color: #008000; text-decoration-color: #008000\">\u2502</span>                                                                                                                 <span style=\"color: #008000; text-decoration-color: #008000\">\u2502</span>\n",
              "<span style=\"color: #008000; text-decoration-color: #008000\">\u2502</span> Updates `actions/download-artifact` from 4.1.8 to 4.3.0                                                         <span style=\"color: #008000; text-decoration-color: #008000\">\u2502</span>\n",
              "<span style=\"color: #008000; text-decoration-color: #008000\">\u2502</span> - [Release notes](https://github.com/actions/download-artifact/releases)                                        <span style=\"color: #008000; text-decoration-color: #008000\">\u2502</span>\n",
              "<span style=\"color: #008000; text-decoration-color: #008000\">\u2502</span> -                                                                                                               <span style=\"color: #008000; text-decoration-color: #008000\">\u2502</span>\n",
              "<span style=\"color: #008000; text-decoration-color: #008000\">\u2502</span> [Commits](https://github.com/actions/download-artifact/compare/fa0a91b85d4f404e444e00e005971372dc801d16...d3f86 <span style=\"color: #008000; text-decoration-color: #008000\">\u2502</span>\n",
              "<span style=\"color: #008000; text-decoration-color: #008000\">\u2502</span> a106a0bac45b974a628896c90dbdf5c8093)                                                                            <span style=\"color: #008000; text-decoration-color: #008000\">\u2502</span>\n",
              "<span style=\"color: #008000; text-decoration-color: #008000\">\u2502</span>                                                                                                                 <span style=\"color: #008000; text-decoration-color: #008000\">\u2502</span>\n",
              "<span style=\"color: #008000; text-decoration-color: #008000\">\u2502</span> Updates `softprops/action-gh-release` from 2.0.8 to 2.3.2                                                       <span style=\"color: #008000; text-decoration-color: #008000\">\u2502</span>\n",
              "<span style=\"color: #008000; text-decoration-color: #008000\">\u2502</span> - [Release notes](https://github.com/softprops/action-gh-release/releases)                                      <span style=\"color: #008000; text-decoration-color: #008000\">\u2502</span>\n",
              "<span style=\"color: #008000; text-decoration-color: #008000\">\u2502</span> - [Changelog](https://github.com/softprops/action-gh-release/blob/master/CHANGELOG.md)                          <span style=\"color: #008000; text-decoration-color: #008000\">\u2502</span>\n",
              "<span style=\"color: #008000; text-decoration-color: #008000\">\u2502</span> -                                                                                                               <span style=\"color: #008000; text-decoration-color: #008000\">\u2502</span>\n",
              "<span style=\"color: #008000; text-decoration-color: #008000\">\u2502</span> [Commits](https://github.com/softprops/action-gh-release/compare/c062e08bd532815e2082a85e87e3ef29c3e6d191...72f <span style=\"color: #008000; text-decoration-color: #008000\">\u2502</span>\n",
              "<span style=\"color: #008000; text-decoration-color: #008000\">\u2502</span> 2c25fcb47643c292f7107632f7a47c1df5cd8)                                                                          <span style=\"color: #008000; text-decoration-color: #008000\">\u2502</span>\n",
              "<span style=\"color: #008000; text-decoration-color: #008000\">\u2502</span>                                                                                                                 <span style=\"color: #008000; text-decoration-color: #008000\">\u2502</span>\n",
              "<span style=\"color: #008000; text-decoration-color: #008000\">\u2502</span> ---                                                                                                             <span style=\"color: #008000; text-decoration-color: #008000\">\u2502</span>\n",
              "<span style=\"color: #008000; text-decoration-color: #008000\">\u2502</span> updated-dependencies:                                                                                           <span style=\"color: #008000; text-decoration-color: #008000\">\u2502</span>\n",
              "<span style=\"color: #008000; text-decoration-color: #008000\">\u2502</span> - dependency-name: actions/checkout                                                                             <span style=\"color: #008000; text-decoration-color: #008000\">\u2502</span>\n",
              "<span style=\"color: #008000; text-decoration-color: #008000\">\u2502</span>   dependency-version: 4.2.2                                                                                     <span style=\"color: #008000; text-decoration-color: #008000\">\u2502</span>\n",
              "<span style=\"color: #008000; text-decoration-color: #008000\">\u2502</span>   dependency-type: direct:production                                                                            <span style=\"color: #008000; text-decoration-color: #008000\">\u2502</span>\n",
              "<span style=\"color: #008000; text-decoration-color: #008000\">\u2502</span>   update-type: version-update:semver-minor                                                                      <span style=\"color: #008000; text-decoration-color: #008000\">\u2502</span>\n",
              "<span style=\"color: #008000; text-decoration-color: #008000\">\u2502</span>   dependency-group: actions                                                                                     <span style=\"color: #008000; text-decoration-color: #008000\">\u2502</span>\n",
              "<span style=\"color: #008000; text-decoration-color: #008000\">\u2502</span> - dependency-name: peter-evans/create-pull-request                                                              <span style=\"color: #008000; text-decoration-color: #008000\">\u2502</span>\n",
              "<span style=\"color: #008000; text-decoration-color: #008000\">\u2502</span>   dependency-version: 7.0.8                                                                                     <span style=\"color: #008000; text-decoration-color: #008000\">\u2502</span>\n",
              "<span style=\"color: #008000; text-decoration-color: #008000\">\u2502</span>   dependency-type: direct:production                                                                            <span style=\"color: #008000; text-decoration-color: #008000\">\u2502</span>\n",
              "<span style=\"color: #008000; text-decoration-color: #008000\">\u2502</span>   update-type: version-update:semver-patch                                                                      <span style=\"color: #008000; text-decoration-color: #008000\">\u2502</span>\n",
              "<span style=\"color: #008000; text-decoration-color: #008000\">\u2502</span>   dependency-group: actions                                                                                     <span style=\"color: #008000; text-decoration-color: #008000\">\u2502</span>\n",
              "<span style=\"color: #008000; text-decoration-color: #008000\">\u2502</span> - dependency-name: actions/upload-artifact                                                                      <span style=\"color: #008000; text-decoration-color: #008000\">\u2502</span>\n",
              "<span style=\"color: #008000; text-decoration-color: #008000\">\u2502</span>   dependency-version: 4.6.2                                                                                     <span style=\"color: #008000; text-decoration-color: #008000\">\u2502</span>\n",
              "<span style=\"color: #008000; text-decoration-color: #008000\">\u2502</span>   dependency-type: direct:production                                                                            <span style=\"color: #008000; text-decoration-color: #008000\">\u2502</span>\n",
              "<span style=\"color: #008000; text-decoration-color: #008000\">\u2502</span>   update-type: version-update:semver-minor                                                                      <span style=\"color: #008000; text-decoration-color: #008000\">\u2502</span>\n",
              "<span style=\"color: #008000; text-decoration-color: #008000\">\u2502</span>   dependency-group: actions                                                                                     <span style=\"color: #008000; text-decoration-color: #008000\">\u2502</span>\n",
              "<span style=\"color: #008000; text-decoration-color: #008000\">\u2502</span> - dependency-name: github/codeql-action                                                                         <span style=\"color: #008000; text-decoration-color: #008000\">\u2502</span>\n",
              "<span style=\"color: #008000; text-decoration-color: #008000\">\u2502</span>   dependency-version: 3.29.2                                                                                    <span style=\"color: #008000; text-decoration-color: #008000\">\u2502</span>\n",
              "<span style=\"color: #008000; text-decoration-color: #008000\">\u2502</span>   dependency-type: direct:production                                                                            <span style=\"color: #008000; text-decoration-color: #008000\">\u2502</span>\n",
              "<span style=\"color: #008000; text-decoration-color: #008000\">\u2502</span>   update-type: version-update:semver-minor                                                                      <span style=\"color: #008000; text-decoration-color: #008000\">\u2502</span>\n",
              "<span style=\"color: #008000; text-decoration-color: #008000\">\u2502</span>   dependency-group: actions                                                                                     <span style=\"color: #008000; text-decoration-color: #008000\">\u2502</span>\n",
              "<span style=\"color: #008000; text-decoration-color: #008000\">\u2502</span> - dependency-name: actions/download-artifact                                                                    <span style=\"color: #008000; text-decoration-color: #008000\">\u2502</span>\n",
              "<span style=\"color: #008000; text-decoration-color: #008000\">\u2502</span>   dependency-version: 4.3.0                                                                                     <span style=\"color: #008000; text-decoration-color: #008000\">\u2502</span>\n",
              "<span style=\"color: #008000; text-decoration-color: #008000\">\u2502</span>   dependency-type: direct:production                                                                            <span style=\"color: #008000; text-decoration-color: #008000\">\u2502</span>\n",
              "<span style=\"color: #008000; text-decoration-color: #008000\">\u2502</span>   update-type: version-update:semver-minor                                                                      <span style=\"color: #008000; text-decoration-color: #008000\">\u2502</span>\n",
              "<span style=\"color: #008000; text-decoration-color: #008000\">\u2502</span>   dependency-group: actions                                                                                     <span style=\"color: #008000; text-decoration-color: #008000\">\u2502</span>\n",
              "<span style=\"color: #008000; text-decoration-color: #008000\">\u2502</span> - dependency-name: softprops/action-gh-release                                                                  <span style=\"color: #008000; text-decoration-color: #008000\">\u2502</span>\n",
              "<span style=\"color: #008000; text-decoration-color: #008000\">\u2502</span>   dependency-version: 2.3.2                                                                                     <span style=\"color: #008000; text-decoration-color: #008000\">\u2502</span>\n",
              "<span style=\"color: #008000; text-decoration-color: #008000\">\u2502</span>   dependency-type: direct:production                                                                            <span style=\"color: #008000; text-decoration-color: #008000\">\u2502</span>\n",
              "<span style=\"color: #008000; text-decoration-color: #008000\">\u2502</span>   update-type: version-update:semver-minor                                                                      <span style=\"color: #008000; text-decoration-color: #008000\">\u2502</span>\n",
              "<span style=\"color: #008000; text-decoration-color: #008000\">\u2502</span>   dependency-group: actions                                                                                     <span style=\"color: #008000; text-decoration-color: #008000\">\u2502</span>\n",
              "<span style=\"color: #008000; text-decoration-color: #008000\">\u2502</span> ...                                                                                                             <span style=\"color: #008000; text-decoration-color: #008000\">\u2502</span>\n",
              "<span style=\"color: #008000; text-decoration-color: #008000\">\u2502</span>                                                                                                                 <span style=\"color: #008000; text-decoration-color: #008000\">\u2502</span>\n",
              "<span style=\"color: #008000; text-decoration-color: #008000\">\u2502</span> Signed-off-by: dependabot &lt;support@github.com&gt;                                                                  <span style=\"color: #008000; text-decoration-color: #008000\">\u2502</span>\n",
              "<span style=\"color: #008000; text-decoration-color: #008000\">\u2570\u2500\u2500\u2500\u2500\u2500\u2500\u2500\u2500\u2500\u2500\u2500\u2500\u2500\u2500\u2500\u2500\u2500\u2500\u2500\u2500\u2500\u2500\u2500\u2500\u2500\u2500\u2500\u2500\u2500\u2500\u2500\u2500\u2500\u2500\u2500\u2500\u2500\u2500\u2500\u2500\u2500\u2500\u2500\u2500\u2500\u2500\u2500\u2500\u2500\u2500\u2500\u2500\u2500\u2500\u2500\u2500\u2500\u2500\u2500\u2500\u2500\u2500\u2500\u2500\u2500\u2500\u2500\u2500\u2500\u2500\u2500\u2500\u2500\u2500\u2500\u2500\u2500\u2500\u2500\u2500\u2500\u2500\u2500\u2500\u2500\u2500\u2500\u2500\u2500\u2500\u2500\u2500\u2500\u2500\u2500\u2500\u2500\u2500\u2500\u2500\u2500\u2500\u2500\u2500\u2500\u2500\u2500\u2500\u2500\u2500\u2500\u2500\u2500\u256f</span>\n",
              "</pre>\n"
            ],
            "text/plain": [
              "\u001b[32m\u256d\u2500\u001b[0m\u001b[32m\u2500\u2500\u2500\u2500\u2500\u2500\u2500\u2500\u2500\u2500\u2500\u2500\u2500\u2500\u2500\u2500\u2500\u2500\u2500\u2500\u2500\u2500\u2500\u2500\u2500\u2500\u2500\u2500\u2500\u2500\u2500\u2500\u2500\u2500\u2500\u2500\u2500\u2500\u2500\u2500\u2500\u2500\u2500\u2500\u2500\u001b[0m\u001b[32m Full Commit Message \u001b[0m\u001b[32m\u2500\u2500\u2500\u2500\u2500\u2500\u2500\u2500\u2500\u2500\u2500\u2500\u2500\u2500\u2500\u2500\u2500\u2500\u2500\u2500\u2500\u2500\u2500\u2500\u2500\u2500\u2500\u2500\u2500\u2500\u2500\u2500\u2500\u2500\u2500\u2500\u2500\u2500\u2500\u2500\u2500\u2500\u2500\u2500\u2500\u001b[0m\u001b[32m\u2500\u256e\u001b[0m\n",
              "\u001b[32m\u2502\u001b[0m ci(deps): bump the actions group with 6 updates                                                                 \u001b[32m\u2502\u001b[0m\n",
              "\u001b[32m\u2502\u001b[0m                                                                                                                 \u001b[32m\u2502\u001b[0m\n",
              "\u001b[32m\u2502\u001b[0m Bumps the actions group with 6 updates:                                                                         \u001b[32m\u2502\u001b[0m\n",
              "\u001b[32m\u2502\u001b[0m                                                                                                                 \u001b[32m\u2502\u001b[0m\n",
              "\u001b[32m\u2502\u001b[0m | Package | From | To |                                                                                         \u001b[32m\u2502\u001b[0m\n",
              "\u001b[32m\u2502\u001b[0m | --- | --- | --- |                                                                                             \u001b[32m\u2502\u001b[0m\n",
              "\u001b[32m\u2502\u001b[0m | (https://github.com/actions/checkout) | `4.1.7` | `4.2.2` |                                                   \u001b[32m\u2502\u001b[0m\n",
              "\u001b[32m\u2502\u001b[0m | (https://github.com/peter-evans/create-pull-request) | `7.0.5` | `7.0.8` |                                    \u001b[32m\u2502\u001b[0m\n",
              "\u001b[32m\u2502\u001b[0m | (https://github.com/actions/upload-artifact) | `4.4.0` | `4.6.2` |                                            \u001b[32m\u2502\u001b[0m\n",
              "\u001b[32m\u2502\u001b[0m | (https://github.com/github/codeql-action) | `3.26.6` | `3.29.2` |                                             \u001b[32m\u2502\u001b[0m\n",
              "\u001b[32m\u2502\u001b[0m | (https://github.com/actions/download-artifact) | `4.1.8` | `4.3.0` |                                          \u001b[32m\u2502\u001b[0m\n",
              "\u001b[32m\u2502\u001b[0m | (https://github.com/softprops/action-gh-release) | `2.0.8` | `2.3.2` |                                        \u001b[32m\u2502\u001b[0m\n",
              "\u001b[32m\u2502\u001b[0m                                                                                                                 \u001b[32m\u2502\u001b[0m\n",
              "\u001b[32m\u2502\u001b[0m                                                                                                                 \u001b[32m\u2502\u001b[0m\n",
              "\u001b[32m\u2502\u001b[0m Updates `actions/checkout` from 4.1.7 to 4.2.2                                                                  \u001b[32m\u2502\u001b[0m\n",
              "\u001b[32m\u2502\u001b[0m - [Release notes](https://github.com/actions/checkout/releases)                                                 \u001b[32m\u2502\u001b[0m\n",
              "\u001b[32m\u2502\u001b[0m - [Changelog](https://github.com/actions/checkout/blob/main/CHANGELOG.md)                                       \u001b[32m\u2502\u001b[0m\n",
              "\u001b[32m\u2502\u001b[0m -                                                                                                               \u001b[32m\u2502\u001b[0m\n",
              "\u001b[32m\u2502\u001b[0m [Commits](https://github.com/actions/checkout/compare/692973e3d937129bcbf40652eb9f2f61becf3332...11bd71901bbe5b \u001b[32m\u2502\u001b[0m\n",
              "\u001b[32m\u2502\u001b[0m 1630ceea73d27597364c9af683)                                                                                     \u001b[32m\u2502\u001b[0m\n",
              "\u001b[32m\u2502\u001b[0m                                                                                                                 \u001b[32m\u2502\u001b[0m\n",
              "\u001b[32m\u2502\u001b[0m Updates `peter-evans/create-pull-request` from 7.0.5 to 7.0.8                                                   \u001b[32m\u2502\u001b[0m\n",
              "\u001b[32m\u2502\u001b[0m - [Release notes](https://github.com/peter-evans/create-pull-request/releases)                                  \u001b[32m\u2502\u001b[0m\n",
              "\u001b[32m\u2502\u001b[0m -                                                                                                               \u001b[32m\u2502\u001b[0m\n",
              "\u001b[32m\u2502\u001b[0m [Commits](https://github.com/peter-evans/create-pull-request/compare/5e914681df9dc83aa4e4905692ca88beb2f9e91f.. \u001b[32m\u2502\u001b[0m\n",
              "\u001b[32m\u2502\u001b[0m .271a8d0340265f705b14b6d32b9829c1cb33d45e)                                                                      \u001b[32m\u2502\u001b[0m\n",
              "\u001b[32m\u2502\u001b[0m                                                                                                                 \u001b[32m\u2502\u001b[0m\n",
              "\u001b[32m\u2502\u001b[0m Updates `actions/upload-artifact` from 4.4.0 to 4.6.2                                                           \u001b[32m\u2502\u001b[0m\n",
              "\u001b[32m\u2502\u001b[0m - [Release notes](https://github.com/actions/upload-artifact/releases)                                          \u001b[32m\u2502\u001b[0m\n",
              "\u001b[32m\u2502\u001b[0m -                                                                                                               \u001b[32m\u2502\u001b[0m\n",
              "\u001b[32m\u2502\u001b[0m [Commits](https://github.com/actions/upload-artifact/compare/50769540e7f4bd5e21e526ee35c689e35e0d6874...ea165f8 \u001b[32m\u2502\u001b[0m\n",
              "\u001b[32m\u2502\u001b[0m d65b6e75b540449e92b4886f43607fa02)                                                                              \u001b[32m\u2502\u001b[0m\n",
              "\u001b[32m\u2502\u001b[0m                                                                                                                 \u001b[32m\u2502\u001b[0m\n",
              "\u001b[32m\u2502\u001b[0m Updates `github/codeql-action` from 3.26.6 to 3.29.2                                                            \u001b[32m\u2502\u001b[0m\n",
              "\u001b[32m\u2502\u001b[0m - [Release notes](https://github.com/github/codeql-action/releases)                                             \u001b[32m\u2502\u001b[0m\n",
              "\u001b[32m\u2502\u001b[0m - [Changelog](https://github.com/github/codeql-action/blob/main/CHANGELOG.md)                                   \u001b[32m\u2502\u001b[0m\n",
              "\u001b[32m\u2502\u001b[0m -                                                                                                               \u001b[32m\u2502\u001b[0m\n",
              "\u001b[32m\u2502\u001b[0m [Commits](https://github.com/github/codeql-action/compare/4dd16135b69a43b6c8efb853346f8437d92d3c93...181d5eefc2 \u001b[32m\u2502\u001b[0m\n",
              "\u001b[32m\u2502\u001b[0m 0863364f96762470ba6f862bdef56b)                                                                                 \u001b[32m\u2502\u001b[0m\n",
              "\u001b[32m\u2502\u001b[0m                                                                                                                 \u001b[32m\u2502\u001b[0m\n",
              "\u001b[32m\u2502\u001b[0m Updates `actions/download-artifact` from 4.1.8 to 4.3.0                                                         \u001b[32m\u2502\u001b[0m\n",
              "\u001b[32m\u2502\u001b[0m - [Release notes](https://github.com/actions/download-artifact/releases)                                        \u001b[32m\u2502\u001b[0m\n",
              "\u001b[32m\u2502\u001b[0m -                                                                                                               \u001b[32m\u2502\u001b[0m\n",
              "\u001b[32m\u2502\u001b[0m [Commits](https://github.com/actions/download-artifact/compare/fa0a91b85d4f404e444e00e005971372dc801d16...d3f86 \u001b[32m\u2502\u001b[0m\n",
              "\u001b[32m\u2502\u001b[0m a106a0bac45b974a628896c90dbdf5c8093)                                                                            \u001b[32m\u2502\u001b[0m\n",
              "\u001b[32m\u2502\u001b[0m                                                                                                                 \u001b[32m\u2502\u001b[0m\n",
              "\u001b[32m\u2502\u001b[0m Updates `softprops/action-gh-release` from 2.0.8 to 2.3.2                                                       \u001b[32m\u2502\u001b[0m\n",
              "\u001b[32m\u2502\u001b[0m - [Release notes](https://github.com/softprops/action-gh-release/releases)                                      \u001b[32m\u2502\u001b[0m\n",
              "\u001b[32m\u2502\u001b[0m - [Changelog](https://github.com/softprops/action-gh-release/blob/master/CHANGELOG.md)                          \u001b[32m\u2502\u001b[0m\n",
              "\u001b[32m\u2502\u001b[0m -                                                                                                               \u001b[32m\u2502\u001b[0m\n",
              "\u001b[32m\u2502\u001b[0m [Commits](https://github.com/softprops/action-gh-release/compare/c062e08bd532815e2082a85e87e3ef29c3e6d191...72f \u001b[32m\u2502\u001b[0m\n",
              "\u001b[32m\u2502\u001b[0m 2c25fcb47643c292f7107632f7a47c1df5cd8)                                                                          \u001b[32m\u2502\u001b[0m\n",
              "\u001b[32m\u2502\u001b[0m                                                                                                                 \u001b[32m\u2502\u001b[0m\n",
              "\u001b[32m\u2502\u001b[0m ---                                                                                                             \u001b[32m\u2502\u001b[0m\n",
              "\u001b[32m\u2502\u001b[0m updated-dependencies:                                                                                           \u001b[32m\u2502\u001b[0m\n",
              "\u001b[32m\u2502\u001b[0m - dependency-name: actions/checkout                                                                             \u001b[32m\u2502\u001b[0m\n",
              "\u001b[32m\u2502\u001b[0m   dependency-version: 4.2.2                                                                                     \u001b[32m\u2502\u001b[0m\n",
              "\u001b[32m\u2502\u001b[0m   dependency-type: direct:production                                                                            \u001b[32m\u2502\u001b[0m\n",
              "\u001b[32m\u2502\u001b[0m   update-type: version-update:semver-minor                                                                      \u001b[32m\u2502\u001b[0m\n",
              "\u001b[32m\u2502\u001b[0m   dependency-group: actions                                                                                     \u001b[32m\u2502\u001b[0m\n",
              "\u001b[32m\u2502\u001b[0m - dependency-name: peter-evans/create-pull-request                                                              \u001b[32m\u2502\u001b[0m\n",
              "\u001b[32m\u2502\u001b[0m   dependency-version: 7.0.8                                                                                     \u001b[32m\u2502\u001b[0m\n",
              "\u001b[32m\u2502\u001b[0m   dependency-type: direct:production                                                                            \u001b[32m\u2502\u001b[0m\n",
              "\u001b[32m\u2502\u001b[0m   update-type: version-update:semver-patch                                                                      \u001b[32m\u2502\u001b[0m\n",
              "\u001b[32m\u2502\u001b[0m   dependency-group: actions                                                                                     \u001b[32m\u2502\u001b[0m\n",
              "\u001b[32m\u2502\u001b[0m - dependency-name: actions/upload-artifact                                                                      \u001b[32m\u2502\u001b[0m\n",
              "\u001b[32m\u2502\u001b[0m   dependency-version: 4.6.2                                                                                     \u001b[32m\u2502\u001b[0m\n",
              "\u001b[32m\u2502\u001b[0m   dependency-type: direct:production                                                                            \u001b[32m\u2502\u001b[0m\n",
              "\u001b[32m\u2502\u001b[0m   update-type: version-update:semver-minor                                                                      \u001b[32m\u2502\u001b[0m\n",
              "\u001b[32m\u2502\u001b[0m   dependency-group: actions                                                                                     \u001b[32m\u2502\u001b[0m\n",
              "\u001b[32m\u2502\u001b[0m - dependency-name: github/codeql-action                                                                         \u001b[32m\u2502\u001b[0m\n",
              "\u001b[32m\u2502\u001b[0m   dependency-version: 3.29.2                                                                                    \u001b[32m\u2502\u001b[0m\n",
              "\u001b[32m\u2502\u001b[0m   dependency-type: direct:production                                                                            \u001b[32m\u2502\u001b[0m\n",
              "\u001b[32m\u2502\u001b[0m   update-type: version-update:semver-minor                                                                      \u001b[32m\u2502\u001b[0m\n",
              "\u001b[32m\u2502\u001b[0m   dependency-group: actions                                                                                     \u001b[32m\u2502\u001b[0m\n",
              "\u001b[32m\u2502\u001b[0m - dependency-name: actions/download-artifact                                                                    \u001b[32m\u2502\u001b[0m\n",
              "\u001b[32m\u2502\u001b[0m   dependency-version: 4.3.0                                                                                     \u001b[32m\u2502\u001b[0m\n",
              "\u001b[32m\u2502\u001b[0m   dependency-type: direct:production                                                                            \u001b[32m\u2502\u001b[0m\n",
              "\u001b[32m\u2502\u001b[0m   update-type: version-update:semver-minor                                                                      \u001b[32m\u2502\u001b[0m\n",
              "\u001b[32m\u2502\u001b[0m   dependency-group: actions                                                                                     \u001b[32m\u2502\u001b[0m\n",
              "\u001b[32m\u2502\u001b[0m - dependency-name: softprops/action-gh-release                                                                  \u001b[32m\u2502\u001b[0m\n",
              "\u001b[32m\u2502\u001b[0m   dependency-version: 2.3.2                                                                                     \u001b[32m\u2502\u001b[0m\n",
              "\u001b[32m\u2502\u001b[0m   dependency-type: direct:production                                                                            \u001b[32m\u2502\u001b[0m\n",
              "\u001b[32m\u2502\u001b[0m   update-type: version-update:semver-minor                                                                      \u001b[32m\u2502\u001b[0m\n",
              "\u001b[32m\u2502\u001b[0m   dependency-group: actions                                                                                     \u001b[32m\u2502\u001b[0m\n",
              "\u001b[32m\u2502\u001b[0m ...                                                                                                             \u001b[32m\u2502\u001b[0m\n",
              "\u001b[32m\u2502\u001b[0m                                                                                                                 \u001b[32m\u2502\u001b[0m\n",
              "\u001b[32m\u2502\u001b[0m Signed-off-by: dependabot <support@github.com>                                                                  \u001b[32m\u2502\u001b[0m\n",
              "\u001b[32m\u2570\u2500\u2500\u2500\u2500\u2500\u2500\u2500\u2500\u2500\u2500\u2500\u2500\u2500\u2500\u2500\u2500\u2500\u2500\u2500\u2500\u2500\u2500\u2500\u2500\u2500\u2500\u2500\u2500\u2500\u2500\u2500\u2500\u2500\u2500\u2500\u2500\u2500\u2500\u2500\u2500\u2500\u2500\u2500\u2500\u2500\u2500\u2500\u2500\u2500\u2500\u2500\u2500\u2500\u2500\u2500\u2500\u2500\u2500\u2500\u2500\u2500\u2500\u2500\u2500\u2500\u2500\u2500\u2500\u2500\u2500\u2500\u2500\u2500\u2500\u2500\u2500\u2500\u2500\u2500\u2500\u2500\u2500\u2500\u2500\u2500\u2500\u2500\u2500\u2500\u2500\u2500\u2500\u2500\u2500\u2500\u2500\u2500\u2500\u2500\u2500\u2500\u2500\u2500\u2500\u2500\u2500\u2500\u2500\u2500\u2500\u2500\u2500\u2500\u256f\u001b[0m\n"
            ]
          },
          "metadata": {},
          "output_type": "display_data"
        },
        {
          "data": {
            "text/html": [
              "<pre style=\"white-space:pre;overflow-x:auto;line-height:normal;font-family:Menlo,'DejaVu Sans Mono',consolas,'Courier New',monospace\">\n",
              "</pre>\n"
            ],
            "text/plain": [
              "\n"
            ]
          },
          "metadata": {},
          "output_type": "display_data"
        }
      ],
      "source": [
        "# Display detailed information for each commit\n",
        "for i, commit_obj in enumerate(commit_objects):\n",
        "    # Create a tree structure for commit details\n",
        "    tree = Tree(\n",
        "        f\"[bold magenta]Commit {i + 1}: {commit_obj.get_short_sha()}[/bold magenta]\"\n",
        "    )\n",
        "\n",
        "    # Metadata branch\n",
        "    metadata_branch = tree.add(\"[bold blue]Metadata[/bold blue]\")\n",
        "    metadata_branch.add(f\"Full SHA: {commit_obj.metadata.sha}\")\n",
        "    author_email = commit_obj.metadata.author.email\n",
        "    metadata_branch.add(f\"Author: {commit_obj.metadata.author.name} <{author_email}>\")\n",
        "    metadata_branch.add(f\"Date: {commit_obj.metadata.author.timestamp}\")\n",
        "    parent_shas = \", \".join([p[:8] for p in commit_obj.metadata.parents])\n",
        "    metadata_branch.add(f\"Parents: {len(commit_obj.metadata.parents)} ({parent_shas})\")\n",
        "    metadata_branch.add(\n",
        "        f\"Signed: {'Yes' if commit_obj.metadata.gpg_signature else 'No'}\"\n",
        "    )\n",
        "\n",
        "    # Message branch\n",
        "    message_branch = tree.add(\"[bold green]Message[/bold green]\")\n",
        "    message_branch.add(f\"Summary: {commit_obj.summary}\")\n",
        "    if \"\\n\" in commit_obj.message and len(commit_obj.message.split(\"\\n\")) > 1:\n",
        "        message_branch.add(\"Full message: [See below]\")\n",
        "\n",
        "    # Repository info branch\n",
        "    repo_branch = tree.add(\"[bold yellow]Repository Info[/bold yellow]\")\n",
        "    repo_branch.add(\n",
        "        f\"Branches: {', '.join(commit_obj.branches) if commit_obj.branches else 'None'}\"\n",
        "    )\n",
        "    repo_branch.add(\n",
        "        f\"Tags: {', '.join(commit_obj.tags) if commit_obj.tags else 'None'}\"\n",
        "    )\n",
        "\n",
        "    # Diff statistics branch\n",
        "    diff_branch = tree.add(\"[bold red]Changes[/bold red]\")\n",
        "    diff_branch.add(f\"Files changed: {commit_obj.diff.files_changed_count}\")\n",
        "    diff_branch.add(f\"Insertions: +{commit_obj.diff.insertions_count}\")\n",
        "    diff_branch.add(f\"Deletions: -{commit_obj.diff.deletions_count}\")\n",
        "    diff_branch.add(f\"Total changes: {commit_obj.get_total_changes()}\")\n",
        "\n",
        "    # File modifications\n",
        "    if commit_obj.diff.modifications:\n",
        "        files_branch = diff_branch.add(\"Modified files:\")\n",
        "        for mod in commit_obj.diff.modifications[:5]:  # Show first 5 files\n",
        "            file_info = f\"{mod.modification_type}: \"\n",
        "            if mod.modification_type == \"R\":\n",
        "                file_info += f\"{mod.path_before} \u2192 {mod.path_after}\"\n",
        "            else:\n",
        "                file_info += mod.path_after or mod.path_before\n",
        "            file_info += f\" (+{mod.insertions}/-{mod.deletions})\"\n",
        "            files_branch.add(file_info)\n",
        "        if len(commit_obj.diff.modifications) > 5:\n",
        "            files_branch.add(\n",
        "                f\"... and {len(commit_obj.diff.modifications) - 5} more files\"\n",
        "            )\n",
        "\n",
        "    console.print(tree)\n",
        "\n",
        "    # Display full commit message if it's multi-line\n",
        "    if \"\\n\" in commit_obj.message and len(commit_obj.message.split(\"\\n\")) > 1:\n",
        "        console.print(\n",
        "            Panel(commit_obj.message, title=\"Full Commit Message\", border_style=\"green\")\n",
        "        )\n",
        "\n",
        "    console.print(\"\")  # Add spacing between commits"
      ]
    },
    {
      "cell_type": "markdown",
      "metadata": {},
      "source": [
        "## Aggregate Statistics\n",
        "\n",
        "Show summary statistics across all processed commits."
      ]
    },
    {
      "cell_type": "code",
      "execution_count": 8,
      "metadata": {},
      "outputs": [
        {
          "data": {
            "text/html": [
              "<pre style=\"white-space:pre;overflow-x:auto;line-height:normal;font-family:Menlo,'DejaVu Sans Mono',consolas,'Courier New',monospace\"><span style=\"color: #008080; text-decoration-color: #008080; font-weight: bold\">Aggregate Statistics</span>\n",
              "\n",
              "</pre>\n"
            ],
            "text/plain": [
              "\u001b[1;36mAggregate Statistics\u001b[0m\n",
              "\n"
            ]
          },
          "metadata": {},
          "output_type": "display_data"
        },
        {
          "data": {
            "text/html": [
              "<pre style=\"white-space:pre;overflow-x:auto;line-height:normal;font-family:Menlo,'DejaVu Sans Mono',consolas,'Courier New',monospace\"><span style=\"font-style: italic\">          Summary Statistics           </span>\n",
              "\u250f\u2501\u2501\u2501\u2501\u2501\u2501\u2501\u2501\u2501\u2501\u2501\u2501\u2501\u2501\u2501\u2501\u2501\u2501\u2501\u2501\u2501\u2501\u2501\u2501\u2501\u2501\u2501\u2501\u2533\u2501\u2501\u2501\u2501\u2501\u2501\u2501\u2501\u2513\n",
              "\u2503<span style=\"color: #008080; text-decoration-color: #008080; font-weight: bold\"> Metric                     </span>\u2503<span style=\"color: #008080; text-decoration-color: #008080; font-weight: bold\"> Value  </span>\u2503\n",
              "\u2521\u2501\u2501\u2501\u2501\u2501\u2501\u2501\u2501\u2501\u2501\u2501\u2501\u2501\u2501\u2501\u2501\u2501\u2501\u2501\u2501\u2501\u2501\u2501\u2501\u2501\u2501\u2501\u2501\u2547\u2501\u2501\u2501\u2501\u2501\u2501\u2501\u2501\u2529\n",
              "\u2502<span style=\"color: #c0c0c0; text-decoration-color: #c0c0c0\"> Total Commits              </span>\u2502<span style=\"color: #808000; text-decoration-color: #808000\"> 5      </span>\u2502\n",
              "\u2502<span style=\"color: #c0c0c0; text-decoration-color: #c0c0c0\"> Total Files Changed        </span>\u2502<span style=\"color: #808000; text-decoration-color: #808000\"> 39     </span>\u2502\n",
              "\u2502<span style=\"color: #c0c0c0; text-decoration-color: #c0c0c0\"> Total Insertions           </span>\u2502<span style=\"color: #808000; text-decoration-color: #808000\"> +6575  </span>\u2502\n",
              "\u2502<span style=\"color: #c0c0c0; text-decoration-color: #c0c0c0\"> Total Deletions            </span>\u2502<span style=\"color: #808000; text-decoration-color: #808000\"> -1370  </span>\u2502\n",
              "\u2502<span style=\"color: #c0c0c0; text-decoration-color: #c0c0c0\"> Total Line Changes         </span>\u2502<span style=\"color: #808000; text-decoration-color: #808000\"> 7945   </span>\u2502\n",
              "\u2502<span style=\"color: #c0c0c0; text-decoration-color: #c0c0c0\"> Average Changes per Commit </span>\u2502<span style=\"color: #808000; text-decoration-color: #808000\"> 1589.0 </span>\u2502\n",
              "\u2514\u2500\u2500\u2500\u2500\u2500\u2500\u2500\u2500\u2500\u2500\u2500\u2500\u2500\u2500\u2500\u2500\u2500\u2500\u2500\u2500\u2500\u2500\u2500\u2500\u2500\u2500\u2500\u2500\u2534\u2500\u2500\u2500\u2500\u2500\u2500\u2500\u2500\u2518\n",
              "</pre>\n"
            ],
            "text/plain": [
              "\u001b[3m          Summary Statistics           \u001b[0m\n",
              "\u250f\u2501\u2501\u2501\u2501\u2501\u2501\u2501\u2501\u2501\u2501\u2501\u2501\u2501\u2501\u2501\u2501\u2501\u2501\u2501\u2501\u2501\u2501\u2501\u2501\u2501\u2501\u2501\u2501\u2533\u2501\u2501\u2501\u2501\u2501\u2501\u2501\u2501\u2513\n",
              "\u2503\u001b[1;36m \u001b[0m\u001b[1;36mMetric                    \u001b[0m\u001b[1;36m \u001b[0m\u2503\u001b[1;36m \u001b[0m\u001b[1;36mValue \u001b[0m\u001b[1;36m \u001b[0m\u2503\n",
              "\u2521\u2501\u2501\u2501\u2501\u2501\u2501\u2501\u2501\u2501\u2501\u2501\u2501\u2501\u2501\u2501\u2501\u2501\u2501\u2501\u2501\u2501\u2501\u2501\u2501\u2501\u2501\u2501\u2501\u2547\u2501\u2501\u2501\u2501\u2501\u2501\u2501\u2501\u2529\n",
              "\u2502\u001b[37m \u001b[0m\u001b[37mTotal Commits             \u001b[0m\u001b[37m \u001b[0m\u2502\u001b[33m \u001b[0m\u001b[33m5     \u001b[0m\u001b[33m \u001b[0m\u2502\n",
              "\u2502\u001b[37m \u001b[0m\u001b[37mTotal Files Changed       \u001b[0m\u001b[37m \u001b[0m\u2502\u001b[33m \u001b[0m\u001b[33m39    \u001b[0m\u001b[33m \u001b[0m\u2502\n",
              "\u2502\u001b[37m \u001b[0m\u001b[37mTotal Insertions          \u001b[0m\u001b[37m \u001b[0m\u2502\u001b[33m \u001b[0m\u001b[33m+6575 \u001b[0m\u001b[33m \u001b[0m\u2502\n",
              "\u2502\u001b[37m \u001b[0m\u001b[37mTotal Deletions           \u001b[0m\u001b[37m \u001b[0m\u2502\u001b[33m \u001b[0m\u001b[33m-1370 \u001b[0m\u001b[33m \u001b[0m\u2502\n",
              "\u2502\u001b[37m \u001b[0m\u001b[37mTotal Line Changes        \u001b[0m\u001b[37m \u001b[0m\u2502\u001b[33m \u001b[0m\u001b[33m7945  \u001b[0m\u001b[33m \u001b[0m\u2502\n",
              "\u2502\u001b[37m \u001b[0m\u001b[37mAverage Changes per Commit\u001b[0m\u001b[37m \u001b[0m\u2502\u001b[33m \u001b[0m\u001b[33m1589.0\u001b[0m\u001b[33m \u001b[0m\u2502\n",
              "\u2514\u2500\u2500\u2500\u2500\u2500\u2500\u2500\u2500\u2500\u2500\u2500\u2500\u2500\u2500\u2500\u2500\u2500\u2500\u2500\u2500\u2500\u2500\u2500\u2500\u2500\u2500\u2500\u2500\u2534\u2500\u2500\u2500\u2500\u2500\u2500\u2500\u2500\u2518\n"
            ]
          },
          "metadata": {},
          "output_type": "display_data"
        },
        {
          "data": {
            "text/html": [
              "<pre style=\"white-space:pre;overflow-x:auto;line-height:normal;font-family:Menlo,'DejaVu Sans Mono',consolas,'Courier New',monospace\">\n",
              "\n",
              "</pre>\n"
            ],
            "text/plain": [
              "\n",
              "\n"
            ]
          },
          "metadata": {},
          "output_type": "display_data"
        },
        {
          "data": {
            "text/html": [
              "<pre style=\"white-space:pre;overflow-x:auto;line-height:normal;font-family:Menlo,'DejaVu Sans Mono',consolas,'Courier New',monospace\"><span style=\"font-style: italic\">   File Modification Types    </span>\n",
              "\u250f\u2501\u2501\u2501\u2501\u2501\u2501\u2533\u2501\u2501\u2501\u2501\u2501\u2501\u2501\u2501\u2501\u2501\u2501\u2501\u2501\u2533\u2501\u2501\u2501\u2501\u2501\u2501\u2501\u2513\n",
              "\u2503<span style=\"color: #008080; text-decoration-color: #008080; font-weight: bold\"> Type </span>\u2503<span style=\"color: #008080; text-decoration-color: #008080; font-weight: bold\"> Description </span>\u2503<span style=\"color: #008080; text-decoration-color: #008080; font-weight: bold\"> Count </span>\u2503\n",
              "\u2521\u2501\u2501\u2501\u2501\u2501\u2501\u2547\u2501\u2501\u2501\u2501\u2501\u2501\u2501\u2501\u2501\u2501\u2501\u2501\u2501\u2547\u2501\u2501\u2501\u2501\u2501\u2501\u2501\u2529\n",
              "\u2502<span style=\"color: #c0c0c0; text-decoration-color: #c0c0c0\"> M    </span>\u2502<span style=\"color: #008000; text-decoration-color: #008000\"> Modified    </span>\u2502<span style=\"color: #808000; text-decoration-color: #808000\"> 24    </span>\u2502\n",
              "\u2502<span style=\"color: #c0c0c0; text-decoration-color: #c0c0c0\"> A    </span>\u2502<span style=\"color: #008000; text-decoration-color: #008000\"> Added       </span>\u2502<span style=\"color: #808000; text-decoration-color: #808000\"> 14    </span>\u2502\n",
              "\u2502<span style=\"color: #c0c0c0; text-decoration-color: #c0c0c0\"> D    </span>\u2502<span style=\"color: #008000; text-decoration-color: #008000\"> Deleted     </span>\u2502<span style=\"color: #808000; text-decoration-color: #808000\"> 1     </span>\u2502\n",
              "\u2514\u2500\u2500\u2500\u2500\u2500\u2500\u2534\u2500\u2500\u2500\u2500\u2500\u2500\u2500\u2500\u2500\u2500\u2500\u2500\u2500\u2534\u2500\u2500\u2500\u2500\u2500\u2500\u2500\u2518\n",
              "</pre>\n"
            ],
            "text/plain": [
              "\u001b[3m   File Modification Types    \u001b[0m\n",
              "\u250f\u2501\u2501\u2501\u2501\u2501\u2501\u2533\u2501\u2501\u2501\u2501\u2501\u2501\u2501\u2501\u2501\u2501\u2501\u2501\u2501\u2533\u2501\u2501\u2501\u2501\u2501\u2501\u2501\u2513\n",
              "\u2503\u001b[1;36m \u001b[0m\u001b[1;36mType\u001b[0m\u001b[1;36m \u001b[0m\u2503\u001b[1;36m \u001b[0m\u001b[1;36mDescription\u001b[0m\u001b[1;36m \u001b[0m\u2503\u001b[1;36m \u001b[0m\u001b[1;36mCount\u001b[0m\u001b[1;36m \u001b[0m\u2503\n",
              "\u2521\u2501\u2501\u2501\u2501\u2501\u2501\u2547\u2501\u2501\u2501\u2501\u2501\u2501\u2501\u2501\u2501\u2501\u2501\u2501\u2501\u2547\u2501\u2501\u2501\u2501\u2501\u2501\u2501\u2529\n",
              "\u2502\u001b[37m \u001b[0m\u001b[37mM   \u001b[0m\u001b[37m \u001b[0m\u2502\u001b[32m \u001b[0m\u001b[32mModified   \u001b[0m\u001b[32m \u001b[0m\u2502\u001b[33m \u001b[0m\u001b[33m24   \u001b[0m\u001b[33m \u001b[0m\u2502\n",
              "\u2502\u001b[37m \u001b[0m\u001b[37mA   \u001b[0m\u001b[37m \u001b[0m\u2502\u001b[32m \u001b[0m\u001b[32mAdded      \u001b[0m\u001b[32m \u001b[0m\u2502\u001b[33m \u001b[0m\u001b[33m14   \u001b[0m\u001b[33m \u001b[0m\u2502\n",
              "\u2502\u001b[37m \u001b[0m\u001b[37mD   \u001b[0m\u001b[37m \u001b[0m\u2502\u001b[32m \u001b[0m\u001b[32mDeleted    \u001b[0m\u001b[32m \u001b[0m\u2502\u001b[33m \u001b[0m\u001b[33m1    \u001b[0m\u001b[33m \u001b[0m\u2502\n",
              "\u2514\u2500\u2500\u2500\u2500\u2500\u2500\u2534\u2500\u2500\u2500\u2500\u2500\u2500\u2500\u2500\u2500\u2500\u2500\u2500\u2500\u2534\u2500\u2500\u2500\u2500\u2500\u2500\u2500\u2518\n"
            ]
          },
          "metadata": {},
          "output_type": "display_data"
        }
      ],
      "source": [
        "# Aggregate statistics across all commits\n",
        "if commit_objects:\n",
        "    console.print(\"[bold cyan]Aggregate Statistics[/bold cyan]\\n\")\n",
        "\n",
        "    # Calculate totals\n",
        "    total_files_changed = sum(c.diff.files_changed_count for c in commit_objects)\n",
        "    total_insertions = sum(c.diff.insertions_count for c in commit_objects)\n",
        "    total_deletions = sum(c.diff.deletions_count for c in commit_objects)\n",
        "    total_changes = sum(c.get_total_changes() for c in commit_objects)\n",
        "\n",
        "    # File modification type distribution\n",
        "    mod_type_counts = defaultdict(int)\n",
        "    for commit in commit_objects:\n",
        "        for mod in commit.diff.modifications:\n",
        "            mod_type_counts[mod.modification_type] += 1\n",
        "\n",
        "    # Create statistics table\n",
        "    stats_table = Table(\n",
        "        title=\"Summary Statistics\", show_header=True, header_style=\"bold cyan\"\n",
        "    )\n",
        "    stats_table.add_column(\"Metric\", style=\"white\")\n",
        "    stats_table.add_column(\"Value\", style=\"yellow\")\n",
        "\n",
        "    stats_table.add_row(\"Total Commits\", str(len(commit_objects)))\n",
        "    stats_table.add_row(\"Total Files Changed\", str(total_files_changed))\n",
        "    stats_table.add_row(\"Total Insertions\", f\"+{total_insertions}\")\n",
        "    stats_table.add_row(\"Total Deletions\", f\"-{total_deletions}\")\n",
        "    stats_table.add_row(\"Total Line Changes\", str(total_changes))\n",
        "    stats_table.add_row(\n",
        "        \"Average Changes per Commit\", f\"{total_changes / len(commit_objects):.1f}\"\n",
        "    )\n",
        "\n",
        "    console.print(stats_table)\n",
        "\n",
        "    # Modification type distribution\n",
        "    if mod_type_counts:\n",
        "        mod_table = Table(\n",
        "            title=\"File Modification Types\", show_header=True, header_style=\"bold cyan\"\n",
        "        )\n",
        "        mod_table.add_column(\"Type\", style=\"white\")\n",
        "        mod_table.add_column(\"Description\", style=\"green\")\n",
        "        mod_table.add_column(\"Count\", style=\"yellow\")\n",
        "\n",
        "        mod_type_descriptions = {\n",
        "            \"A\": \"Added\",\n",
        "            \"M\": \"Modified\",\n",
        "            \"D\": \"Deleted\",\n",
        "            \"R\": \"Renamed\",\n",
        "            \"C\": \"Copied\",\n",
        "            \"T\": \"Type changed\",\n",
        "            \"U\": \"Unmerged\",\n",
        "            \"X\": \"Unknown\",\n",
        "            \"B\": \"Broken pairing\",\n",
        "        }\n",
        "\n",
        "        for mod_type, count in sorted(\n",
        "            mod_type_counts.items(), key=lambda x: x[1], reverse=True\n",
        "        ):\n",
        "            mod_table.add_row(\n",
        "                mod_type, mod_type_descriptions.get(mod_type, \"Unknown\"), str(count)\n",
        "            )\n",
        "\n",
        "        console.print(\"\\n\")\n",
        "        console.print(mod_table)"
      ]
    },
    {
      "cell_type": "markdown",
      "metadata": {},
      "source": [
        "## Export to JSON\n",
        "\n",
        "Export the commit objects to JSON format for further processing or storage."
      ]
    },
    {
      "cell_type": "code",
      "execution_count": 9,
      "metadata": {
        "tags": []
      },
      "outputs": [
        {
          "data": {
            "text/html": [
              "<pre style=\"white-space:pre;overflow-x:auto;line-height:normal;font-family:Menlo,'DejaVu Sans Mono',consolas,'Courier New',monospace\">\n",
              "<span style=\"color: #008080; text-decoration-color: #008080; font-weight: bold\">JSON Export</span>\n",
              "\n",
              "</pre>\n"
            ],
            "text/plain": [
              "\n",
              "\u001b[1;36mJSON Export\u001b[0m\n",
              "\n"
            ]
          },
          "metadata": {},
          "output_type": "display_data"
        },
        {
          "data": {
            "text/html": [
              "<pre style=\"white-space:pre;overflow-x:auto;line-height:normal;font-family:Menlo,'DejaVu Sans Mono',consolas,'Courier New',monospace\"><span style=\"color: #008080; text-decoration-color: #008080\">\u256d\u2500\u2500\u2500\u2500\u2500\u2500\u2500\u2500\u2500\u2500\u2500\u2500\u2500\u2500\u2500\u2500\u2500\u2500\u2500\u2500\u2500\u2500\u2500\u2500\u2500\u2500\u2500\u2500\u2500\u2500\u2500\u2500\u2500\u2500\u2500\u2500\u2500\u2500\u2500\u2500\u2500 JSON Export Preview: c136f0c9 \u2500\u2500\u2500\u2500\u2500\u2500\u2500\u2500\u2500\u2500\u2500\u2500\u2500\u2500\u2500\u2500\u2500\u2500\u2500\u2500\u2500\u2500\u2500\u2500\u2500\u2500\u2500\u2500\u2500\u2500\u2500\u2500\u2500\u2500\u2500\u2500\u2500\u2500\u2500\u2500\u2500\u256e</span>\n",
              "<span style=\"color: #008080; text-decoration-color: #008080\">\u2502</span> <span style=\"color: #e3e3dd; text-decoration-color: #e3e3dd; background-color: #272822; font-weight: bold\">  </span><span style=\"color: #656660; text-decoration-color: #656660; background-color: #272822\"> 1 </span><span style=\"color: #f8f8f2; text-decoration-color: #f8f8f2; background-color: #272822\">{</span><span style=\"background-color: #272822\">                                                                                                         </span> <span style=\"color: #008080; text-decoration-color: #008080\">\u2502</span>\n",
              "<span style=\"color: #008080; text-decoration-color: #008080\">\u2502</span> <span style=\"color: #e3e3dd; text-decoration-color: #e3e3dd; background-color: #272822; font-weight: bold\">  </span><span style=\"color: #656660; text-decoration-color: #656660; background-color: #272822\"> 2 </span><span style=\"color: #f8f8f2; text-decoration-color: #f8f8f2; background-color: #272822\">  </span><span style=\"color: #ff4689; text-decoration-color: #ff4689; background-color: #272822\">\"metadata\"</span><span style=\"color: #f8f8f2; text-decoration-color: #f8f8f2; background-color: #272822\">: {</span><span style=\"background-color: #272822\">                                                                                           </span> <span style=\"color: #008080; text-decoration-color: #008080\">\u2502</span>\n",
              "<span style=\"color: #008080; text-decoration-color: #008080\">\u2502</span> <span style=\"color: #e3e3dd; text-decoration-color: #e3e3dd; background-color: #272822; font-weight: bold\">  </span><span style=\"color: #656660; text-decoration-color: #656660; background-color: #272822\"> 3 </span><span style=\"color: #f8f8f2; text-decoration-color: #f8f8f2; background-color: #272822\">    </span><span style=\"color: #ff4689; text-decoration-color: #ff4689; background-color: #272822\">\"sha\"</span><span style=\"color: #f8f8f2; text-decoration-color: #f8f8f2; background-color: #272822\">: </span><span style=\"color: #e6db74; text-decoration-color: #e6db74; background-color: #272822\">\"c136f0c957da5b56f0f6174d7c78eeddfbf6e6a9\"</span><span style=\"color: #f8f8f2; text-decoration-color: #f8f8f2; background-color: #272822\">,</span><span style=\"background-color: #272822\">                                                    </span> <span style=\"color: #008080; text-decoration-color: #008080\">\u2502</span>\n",
              "<span style=\"color: #008080; text-decoration-color: #008080\">\u2502</span> <span style=\"color: #e3e3dd; text-decoration-color: #e3e3dd; background-color: #272822; font-weight: bold\">  </span><span style=\"color: #656660; text-decoration-color: #656660; background-color: #272822\"> 4 </span><span style=\"color: #f8f8f2; text-decoration-color: #f8f8f2; background-color: #272822\">    </span><span style=\"color: #ff4689; text-decoration-color: #ff4689; background-color: #272822\">\"author\"</span><span style=\"color: #f8f8f2; text-decoration-color: #f8f8f2; background-color: #272822\">: {</span><span style=\"background-color: #272822\">                                                                                           </span> <span style=\"color: #008080; text-decoration-color: #008080\">\u2502</span>\n",
              "<span style=\"color: #008080; text-decoration-color: #008080\">\u2502</span> <span style=\"color: #e3e3dd; text-decoration-color: #e3e3dd; background-color: #272822; font-weight: bold\">  </span><span style=\"color: #656660; text-decoration-color: #656660; background-color: #272822\"> 5 </span><span style=\"color: #f8f8f2; text-decoration-color: #f8f8f2; background-color: #272822\">      </span><span style=\"color: #ff4689; text-decoration-color: #ff4689; background-color: #272822\">\"name\"</span><span style=\"color: #f8f8f2; text-decoration-color: #f8f8f2; background-color: #272822\">: </span><span style=\"color: #e6db74; text-decoration-color: #e6db74; background-color: #272822\">\"00arun00\"</span><span style=\"color: #f8f8f2; text-decoration-color: #f8f8f2; background-color: #272822\">,</span><span style=\"background-color: #272822\">                                                                                 </span> <span style=\"color: #008080; text-decoration-color: #008080\">\u2502</span>\n",
              "<span style=\"color: #008080; text-decoration-color: #008080\">\u2502</span> <span style=\"color: #e3e3dd; text-decoration-color: #e3e3dd; background-color: #272822; font-weight: bold\">  </span><span style=\"color: #656660; text-decoration-color: #656660; background-color: #272822\"> 6 </span><span style=\"color: #f8f8f2; text-decoration-color: #f8f8f2; background-color: #272822\">      </span><span style=\"color: #ff4689; text-decoration-color: #ff4689; background-color: #272822\">\"email\"</span><span style=\"color: #f8f8f2; text-decoration-color: #f8f8f2; background-color: #272822\">: </span><span style=\"color: #e6db74; text-decoration-color: #e6db74; background-color: #272822\">\"arunjoseph.ai@gmail.com\"</span><span style=\"color: #f8f8f2; text-decoration-color: #f8f8f2; background-color: #272822\">,</span><span style=\"background-color: #272822\">                                                                 </span> <span style=\"color: #008080; text-decoration-color: #008080\">\u2502</span>\n",
              "<span style=\"color: #008080; text-decoration-color: #008080\">\u2502</span> <span style=\"color: #e3e3dd; text-decoration-color: #e3e3dd; background-color: #272822; font-weight: bold\">  </span><span style=\"color: #656660; text-decoration-color: #656660; background-color: #272822\"> 7 </span><span style=\"color: #f8f8f2; text-decoration-color: #f8f8f2; background-color: #272822\">      </span><span style=\"color: #ff4689; text-decoration-color: #ff4689; background-color: #272822\">\"timestamp\"</span><span style=\"color: #f8f8f2; text-decoration-color: #f8f8f2; background-color: #272822\">: </span><span style=\"color: #e6db74; text-decoration-color: #e6db74; background-color: #272822\">\"2025-07-05T17:19:54\"</span><span style=\"background-color: #272822\">                                                                  </span> <span style=\"color: #008080; text-decoration-color: #008080\">\u2502</span>\n",
              "<span style=\"color: #008080; text-decoration-color: #008080\">\u2502</span> <span style=\"color: #e3e3dd; text-decoration-color: #e3e3dd; background-color: #272822; font-weight: bold\">  </span><span style=\"color: #656660; text-decoration-color: #656660; background-color: #272822\"> 8 </span><span style=\"color: #f8f8f2; text-decoration-color: #f8f8f2; background-color: #272822\">    },</span><span style=\"background-color: #272822\">                                                                                                    </span> <span style=\"color: #008080; text-decoration-color: #008080\">\u2502</span>\n",
              "<span style=\"color: #008080; text-decoration-color: #008080\">\u2502</span> <span style=\"color: #e3e3dd; text-decoration-color: #e3e3dd; background-color: #272822; font-weight: bold\">  </span><span style=\"color: #656660; text-decoration-color: #656660; background-color: #272822\"> 9 </span><span style=\"color: #f8f8f2; text-decoration-color: #f8f8f2; background-color: #272822\">    </span><span style=\"color: #ff4689; text-decoration-color: #ff4689; background-color: #272822\">\"committer\"</span><span style=\"color: #f8f8f2; text-decoration-color: #f8f8f2; background-color: #272822\">: {</span><span style=\"background-color: #272822\">                                                                                        </span> <span style=\"color: #008080; text-decoration-color: #008080\">\u2502</span>\n",
              "<span style=\"color: #008080; text-decoration-color: #008080\">\u2502</span> <span style=\"color: #e3e3dd; text-decoration-color: #e3e3dd; background-color: #272822; font-weight: bold\">  </span><span style=\"color: #656660; text-decoration-color: #656660; background-color: #272822\">10 </span><span style=\"color: #f8f8f2; text-decoration-color: #f8f8f2; background-color: #272822\">      </span><span style=\"color: #ff4689; text-decoration-color: #ff4689; background-color: #272822\">\"name\"</span><span style=\"color: #f8f8f2; text-decoration-color: #f8f8f2; background-color: #272822\">: </span><span style=\"color: #e6db74; text-decoration-color: #e6db74; background-color: #272822\">\"00arun00\"</span><span style=\"color: #f8f8f2; text-decoration-color: #f8f8f2; background-color: #272822\">,</span><span style=\"background-color: #272822\">                                                                                 </span> <span style=\"color: #008080; text-decoration-color: #008080\">\u2502</span>\n",
              "<span style=\"color: #008080; text-decoration-color: #008080\">\u2502</span> <span style=\"color: #e3e3dd; text-decoration-color: #e3e3dd; background-color: #272822; font-weight: bold\">  </span><span style=\"color: #656660; text-decoration-color: #656660; background-color: #272822\">11 </span><span style=\"color: #f8f8f2; text-decoration-color: #f8f8f2; background-color: #272822\">      </span><span style=\"color: #ff4689; text-decoration-color: #ff4689; background-color: #272822\">\"email\"</span><span style=\"color: #f8f8f2; text-decoration-color: #f8f8f2; background-color: #272822\">: </span><span style=\"color: #e6db74; text-decoration-color: #e6db74; background-color: #272822\">\"arunjoseph.ai@gmail.com\"</span><span style=\"color: #f8f8f2; text-decoration-color: #f8f8f2; background-color: #272822\">,</span><span style=\"background-color: #272822\">                                                                 </span> <span style=\"color: #008080; text-decoration-color: #008080\">\u2502</span>\n",
              "<span style=\"color: #008080; text-decoration-color: #008080\">\u2502</span> <span style=\"color: #e3e3dd; text-decoration-color: #e3e3dd; background-color: #272822; font-weight: bold\">  </span><span style=\"color: #656660; text-decoration-color: #656660; background-color: #272822\">12 </span><span style=\"color: #f8f8f2; text-decoration-color: #f8f8f2; background-color: #272822\">      </span><span style=\"color: #ff4689; text-decoration-color: #ff4689; background-color: #272822\">\"timestamp\"</span><span style=\"color: #f8f8f2; text-decoration-color: #f8f8f2; background-color: #272822\">: </span><span style=\"color: #e6db74; text-decoration-color: #e6db74; background-color: #272822\">\"2025-07-06T10:48:46\"</span><span style=\"background-color: #272822\">                                                                  </span> <span style=\"color: #008080; text-decoration-color: #008080\">\u2502</span>\n",
              "<span style=\"color: #008080; text-decoration-color: #008080\">\u2502</span> <span style=\"color: #e3e3dd; text-decoration-color: #e3e3dd; background-color: #272822; font-weight: bold\">  </span><span style=\"color: #656660; text-decoration-color: #656660; background-color: #272822\">13 </span><span style=\"color: #f8f8f2; text-decoration-color: #f8f8f2; background-color: #272822\">    },</span><span style=\"background-color: #272822\">                                                                                                    </span> <span style=\"color: #008080; text-decoration-color: #008080\">\u2502</span>\n",
              "<span style=\"color: #008080; text-decoration-color: #008080\">\u2502</span> <span style=\"color: #e3e3dd; text-decoration-color: #e3e3dd; background-color: #272822; font-weight: bold\">  </span><span style=\"color: #656660; text-decoration-color: #656660; background-color: #272822\">14 </span><span style=\"color: #f8f8f2; text-decoration-color: #f8f8f2; background-color: #272822\">    </span><span style=\"color: #ff4689; text-decoration-color: #ff4689; background-color: #272822\">\"parents\"</span><span style=\"color: #f8f8f2; text-decoration-color: #f8f8f2; background-color: #272822\">: [</span><span style=\"background-color: #272822\">                                                                                          </span> <span style=\"color: #008080; text-decoration-color: #008080\">\u2502</span>\n",
              "<span style=\"color: #008080; text-decoration-color: #008080\">\u2502</span> <span style=\"color: #e3e3dd; text-decoration-color: #e3e3dd; background-color: #272822; font-weight: bold\">  </span><span style=\"color: #656660; text-decoration-color: #656660; background-color: #272822\">15 </span><span style=\"color: #f8f8f2; text-decoration-color: #f8f8f2; background-color: #272822\">      </span><span style=\"color: #e6db74; text-decoration-color: #e6db74; background-color: #272822\">\"2110ee3033c74cc5452c2e431229c0f73f5b9c1c\"</span><span style=\"background-color: #272822\">                                                          </span> <span style=\"color: #008080; text-decoration-color: #008080\">\u2502</span>\n",
              "<span style=\"color: #008080; text-decoration-color: #008080\">\u2502</span> <span style=\"color: #e3e3dd; text-decoration-color: #e3e3dd; background-color: #272822; font-weight: bold\">  </span><span style=\"color: #656660; text-decoration-color: #656660; background-color: #272822\">16 </span><span style=\"color: #f8f8f2; text-decoration-color: #f8f8f2; background-color: #272822\">    ],</span><span style=\"background-color: #272822\">                                                                                                    </span> <span style=\"color: #008080; text-decoration-color: #008080\">\u2502</span>\n",
              "<span style=\"color: #008080; text-decoration-color: #008080\">\u2502</span> <span style=\"color: #e3e3dd; text-decoration-color: #e3e3dd; background-color: #272822; font-weight: bold\">  </span><span style=\"color: #656660; text-decoration-color: #656660; background-color: #272822\">17 </span><span style=\"color: #f8f8f2; text-decoration-color: #f8f8f2; background-color: #272822\">    </span><span style=\"color: #ff4689; text-decoration-color: #ff4689; background-color: #272822\">\"gpg_signature\"</span><span style=\"color: #f8f8f2; text-decoration-color: #f8f8f2; background-color: #272822\">: </span><span style=\"color: #66d9ef; text-decoration-color: #66d9ef; background-color: #272822\">null</span><span style=\"background-color: #272822\">                                                                                 </span> <span style=\"color: #008080; text-decoration-color: #008080\">\u2502</span>\n",
              "<span style=\"color: #008080; text-decoration-color: #008080\">\u2502</span> <span style=\"color: #e3e3dd; text-decoration-color: #e3e3dd; background-color: #272822; font-weight: bold\">  </span><span style=\"color: #656660; text-decoration-color: #656660; background-color: #272822\">18 </span><span style=\"color: #f8f8f2; text-decoration-color: #f8f8f2; background-color: #272822\">  },</span><span style=\"background-color: #272822\">                                                                                                      </span> <span style=\"color: #008080; text-decoration-color: #008080\">\u2502</span>\n",
              "<span style=\"color: #008080; text-decoration-color: #008080\">\u2502</span> <span style=\"color: #e3e3dd; text-decoration-color: #e3e3dd; background-color: #272822; font-weight: bold\">  </span><span style=\"color: #656660; text-decoration-color: #656660; background-color: #272822\">19 </span><span style=\"color: #f8f8f2; text-decoration-color: #f8f8f2; background-color: #272822\">  </span><span style=\"color: #ff4689; text-decoration-color: #ff4689; background-color: #272822\">\"summary\"</span><span style=\"color: #f8f8f2; text-decoration-color: #f8f8f2; background-color: #272822\">: </span><span style=\"color: #e6db74; text-decoration-color: #e6db74; background-color: #272822\">\"feat(dev): add Jupyter notebook support with dependencies\"</span><span style=\"color: #f8f8f2; text-decoration-color: #f8f8f2; background-color: #272822\">,</span><span style=\"background-color: #272822\">                                 </span> <span style=\"color: #008080; text-decoration-color: #008080\">\u2502</span>\n",
              "<span style=\"color: #008080; text-decoration-color: #008080\">\u2502</span> <span style=\"color: #e3e3dd; text-decoration-color: #e3e3dd; background-color: #272822; font-weight: bold\">  </span><span style=\"color: #656660; text-decoration-color: #656660; background-color: #272822\">20 </span><span style=\"color: #f8f8f2; text-decoration-color: #f8f8f2; background-color: #272822\">  </span><span style=\"color: #ff4689; text-decoration-color: #ff4689; background-color: #272822\">\"message\"</span><span style=\"color: #f8f8f2; text-decoration-color: #f8f8f2; background-color: #272822\">: </span><span style=\"color: #ed007e; text-decoration-color: #ed007e; background-color: #1e0010\">\"feat(dev): add Jupyter notebook support with dependencies\\n\\n- Add notebook dependencies to </span> <span style=\"color: #008080; text-decoration-color: #008080\">\u2502</span>\n",
              "<span style=\"color: #008080; text-decoration-color: #008080\">\u2570\u2500\u2500\u2500\u2500\u2500\u2500\u2500\u2500\u2500\u2500\u2500\u2500\u2500\u2500\u2500\u2500\u2500\u2500\u2500\u2500\u2500\u2500\u2500\u2500\u2500\u2500\u2500\u2500\u2500\u2500\u2500\u2500\u2500\u2500\u2500\u2500\u2500\u2500\u2500\u2500\u2500\u2500\u2500\u2500\u2500\u2500\u2500\u2500\u2500\u2500\u2500\u2500\u2500\u2500\u2500\u2500\u2500\u2500\u2500\u2500\u2500\u2500\u2500\u2500\u2500\u2500\u2500\u2500\u2500\u2500\u2500\u2500\u2500\u2500\u2500\u2500\u2500\u2500\u2500\u2500\u2500\u2500\u2500\u2500\u2500\u2500\u2500\u2500\u2500\u2500\u2500\u2500\u2500\u2500\u2500\u2500\u2500\u2500\u2500\u2500\u2500\u2500\u2500\u2500\u2500\u2500\u2500\u2500\u2500\u2500\u2500\u2500\u2500\u256f</span>\n",
              "</pre>\n"
            ],
            "text/plain": [
              "\u001b[36m\u256d\u2500\u001b[0m\u001b[36m\u2500\u2500\u2500\u2500\u2500\u2500\u2500\u2500\u2500\u2500\u2500\u2500\u2500\u2500\u2500\u2500\u2500\u2500\u2500\u2500\u2500\u2500\u2500\u2500\u2500\u2500\u2500\u2500\u2500\u2500\u2500\u2500\u2500\u2500\u2500\u2500\u2500\u2500\u2500\u2500\u001b[0m\u001b[36m JSON Export Preview: c136f0c9 \u001b[0m\u001b[36m\u2500\u2500\u2500\u2500\u2500\u2500\u2500\u2500\u2500\u2500\u2500\u2500\u2500\u2500\u2500\u2500\u2500\u2500\u2500\u2500\u2500\u2500\u2500\u2500\u2500\u2500\u2500\u2500\u2500\u2500\u2500\u2500\u2500\u2500\u2500\u2500\u2500\u2500\u2500\u2500\u001b[0m\u001b[36m\u2500\u256e\u001b[0m\n",
              "\u001b[36m\u2502\u001b[0m \u001b[1;38;2;227;227;221;48;2;39;40;34m  \u001b[0m\u001b[38;2;101;102;96;48;2;39;40;34m 1 \u001b[0m\u001b[38;2;248;248;242;48;2;39;40;34m{\u001b[0m\u001b[48;2;39;40;34m                                                                                                         \u001b[0m \u001b[36m\u2502\u001b[0m\n",
              "\u001b[36m\u2502\u001b[0m \u001b[1;38;2;227;227;221;48;2;39;40;34m  \u001b[0m\u001b[38;2;101;102;96;48;2;39;40;34m 2 \u001b[0m\u001b[38;2;248;248;242;48;2;39;40;34m  \u001b[0m\u001b[38;2;255;70;137;48;2;39;40;34m\"metadata\"\u001b[0m\u001b[38;2;248;248;242;48;2;39;40;34m:\u001b[0m\u001b[38;2;248;248;242;48;2;39;40;34m \u001b[0m\u001b[38;2;248;248;242;48;2;39;40;34m{\u001b[0m\u001b[48;2;39;40;34m                                                                                           \u001b[0m \u001b[36m\u2502\u001b[0m\n",
              "\u001b[36m\u2502\u001b[0m \u001b[1;38;2;227;227;221;48;2;39;40;34m  \u001b[0m\u001b[38;2;101;102;96;48;2;39;40;34m 3 \u001b[0m\u001b[38;2;248;248;242;48;2;39;40;34m    \u001b[0m\u001b[38;2;255;70;137;48;2;39;40;34m\"sha\"\u001b[0m\u001b[38;2;248;248;242;48;2;39;40;34m:\u001b[0m\u001b[38;2;248;248;242;48;2;39;40;34m \u001b[0m\u001b[38;2;230;219;116;48;2;39;40;34m\"c136f0c957da5b56f0f6174d7c78eeddfbf6e6a9\"\u001b[0m\u001b[38;2;248;248;242;48;2;39;40;34m,\u001b[0m\u001b[48;2;39;40;34m                                                    \u001b[0m \u001b[36m\u2502\u001b[0m\n",
              "\u001b[36m\u2502\u001b[0m \u001b[1;38;2;227;227;221;48;2;39;40;34m  \u001b[0m\u001b[38;2;101;102;96;48;2;39;40;34m 4 \u001b[0m\u001b[38;2;248;248;242;48;2;39;40;34m    \u001b[0m\u001b[38;2;255;70;137;48;2;39;40;34m\"author\"\u001b[0m\u001b[38;2;248;248;242;48;2;39;40;34m:\u001b[0m\u001b[38;2;248;248;242;48;2;39;40;34m \u001b[0m\u001b[38;2;248;248;242;48;2;39;40;34m{\u001b[0m\u001b[48;2;39;40;34m                                                                                           \u001b[0m \u001b[36m\u2502\u001b[0m\n",
              "\u001b[36m\u2502\u001b[0m \u001b[1;38;2;227;227;221;48;2;39;40;34m  \u001b[0m\u001b[38;2;101;102;96;48;2;39;40;34m 5 \u001b[0m\u001b[38;2;248;248;242;48;2;39;40;34m      \u001b[0m\u001b[38;2;255;70;137;48;2;39;40;34m\"name\"\u001b[0m\u001b[38;2;248;248;242;48;2;39;40;34m:\u001b[0m\u001b[38;2;248;248;242;48;2;39;40;34m \u001b[0m\u001b[38;2;230;219;116;48;2;39;40;34m\"00arun00\"\u001b[0m\u001b[38;2;248;248;242;48;2;39;40;34m,\u001b[0m\u001b[48;2;39;40;34m                                                                                 \u001b[0m \u001b[36m\u2502\u001b[0m\n",
              "\u001b[36m\u2502\u001b[0m \u001b[1;38;2;227;227;221;48;2;39;40;34m  \u001b[0m\u001b[38;2;101;102;96;48;2;39;40;34m 6 \u001b[0m\u001b[38;2;248;248;242;48;2;39;40;34m      \u001b[0m\u001b[38;2;255;70;137;48;2;39;40;34m\"email\"\u001b[0m\u001b[38;2;248;248;242;48;2;39;40;34m:\u001b[0m\u001b[38;2;248;248;242;48;2;39;40;34m \u001b[0m\u001b[38;2;230;219;116;48;2;39;40;34m\"arunjoseph.ai@gmail.com\"\u001b[0m\u001b[38;2;248;248;242;48;2;39;40;34m,\u001b[0m\u001b[48;2;39;40;34m                                                                 \u001b[0m \u001b[36m\u2502\u001b[0m\n",
              "\u001b[36m\u2502\u001b[0m \u001b[1;38;2;227;227;221;48;2;39;40;34m  \u001b[0m\u001b[38;2;101;102;96;48;2;39;40;34m 7 \u001b[0m\u001b[38;2;248;248;242;48;2;39;40;34m      \u001b[0m\u001b[38;2;255;70;137;48;2;39;40;34m\"timestamp\"\u001b[0m\u001b[38;2;248;248;242;48;2;39;40;34m:\u001b[0m\u001b[38;2;248;248;242;48;2;39;40;34m \u001b[0m\u001b[38;2;230;219;116;48;2;39;40;34m\"2025-07-05T17:19:54\"\u001b[0m\u001b[48;2;39;40;34m                                                                  \u001b[0m \u001b[36m\u2502\u001b[0m\n",
              "\u001b[36m\u2502\u001b[0m \u001b[1;38;2;227;227;221;48;2;39;40;34m  \u001b[0m\u001b[38;2;101;102;96;48;2;39;40;34m 8 \u001b[0m\u001b[38;2;248;248;242;48;2;39;40;34m    \u001b[0m\u001b[38;2;248;248;242;48;2;39;40;34m},\u001b[0m\u001b[48;2;39;40;34m                                                                                                    \u001b[0m \u001b[36m\u2502\u001b[0m\n",
              "\u001b[36m\u2502\u001b[0m \u001b[1;38;2;227;227;221;48;2;39;40;34m  \u001b[0m\u001b[38;2;101;102;96;48;2;39;40;34m 9 \u001b[0m\u001b[38;2;248;248;242;48;2;39;40;34m    \u001b[0m\u001b[38;2;255;70;137;48;2;39;40;34m\"committer\"\u001b[0m\u001b[38;2;248;248;242;48;2;39;40;34m:\u001b[0m\u001b[38;2;248;248;242;48;2;39;40;34m \u001b[0m\u001b[38;2;248;248;242;48;2;39;40;34m{\u001b[0m\u001b[48;2;39;40;34m                                                                                        \u001b[0m \u001b[36m\u2502\u001b[0m\n",
              "\u001b[36m\u2502\u001b[0m \u001b[1;38;2;227;227;221;48;2;39;40;34m  \u001b[0m\u001b[38;2;101;102;96;48;2;39;40;34m10 \u001b[0m\u001b[38;2;248;248;242;48;2;39;40;34m      \u001b[0m\u001b[38;2;255;70;137;48;2;39;40;34m\"name\"\u001b[0m\u001b[38;2;248;248;242;48;2;39;40;34m:\u001b[0m\u001b[38;2;248;248;242;48;2;39;40;34m \u001b[0m\u001b[38;2;230;219;116;48;2;39;40;34m\"00arun00\"\u001b[0m\u001b[38;2;248;248;242;48;2;39;40;34m,\u001b[0m\u001b[48;2;39;40;34m                                                                                 \u001b[0m \u001b[36m\u2502\u001b[0m\n",
              "\u001b[36m\u2502\u001b[0m \u001b[1;38;2;227;227;221;48;2;39;40;34m  \u001b[0m\u001b[38;2;101;102;96;48;2;39;40;34m11 \u001b[0m\u001b[38;2;248;248;242;48;2;39;40;34m      \u001b[0m\u001b[38;2;255;70;137;48;2;39;40;34m\"email\"\u001b[0m\u001b[38;2;248;248;242;48;2;39;40;34m:\u001b[0m\u001b[38;2;248;248;242;48;2;39;40;34m \u001b[0m\u001b[38;2;230;219;116;48;2;39;40;34m\"arunjoseph.ai@gmail.com\"\u001b[0m\u001b[38;2;248;248;242;48;2;39;40;34m,\u001b[0m\u001b[48;2;39;40;34m                                                                 \u001b[0m \u001b[36m\u2502\u001b[0m\n",
              "\u001b[36m\u2502\u001b[0m \u001b[1;38;2;227;227;221;48;2;39;40;34m  \u001b[0m\u001b[38;2;101;102;96;48;2;39;40;34m12 \u001b[0m\u001b[38;2;248;248;242;48;2;39;40;34m      \u001b[0m\u001b[38;2;255;70;137;48;2;39;40;34m\"timestamp\"\u001b[0m\u001b[38;2;248;248;242;48;2;39;40;34m:\u001b[0m\u001b[38;2;248;248;242;48;2;39;40;34m \u001b[0m\u001b[38;2;230;219;116;48;2;39;40;34m\"2025-07-06T10:48:46\"\u001b[0m\u001b[48;2;39;40;34m                                                                  \u001b[0m \u001b[36m\u2502\u001b[0m\n",
              "\u001b[36m\u2502\u001b[0m \u001b[1;38;2;227;227;221;48;2;39;40;34m  \u001b[0m\u001b[38;2;101;102;96;48;2;39;40;34m13 \u001b[0m\u001b[38;2;248;248;242;48;2;39;40;34m    \u001b[0m\u001b[38;2;248;248;242;48;2;39;40;34m},\u001b[0m\u001b[48;2;39;40;34m                                                                                                    \u001b[0m \u001b[36m\u2502\u001b[0m\n",
              "\u001b[36m\u2502\u001b[0m \u001b[1;38;2;227;227;221;48;2;39;40;34m  \u001b[0m\u001b[38;2;101;102;96;48;2;39;40;34m14 \u001b[0m\u001b[38;2;248;248;242;48;2;39;40;34m    \u001b[0m\u001b[38;2;255;70;137;48;2;39;40;34m\"parents\"\u001b[0m\u001b[38;2;248;248;242;48;2;39;40;34m:\u001b[0m\u001b[38;2;248;248;242;48;2;39;40;34m \u001b[0m\u001b[38;2;248;248;242;48;2;39;40;34m[\u001b[0m\u001b[48;2;39;40;34m                                                                                          \u001b[0m \u001b[36m\u2502\u001b[0m\n",
              "\u001b[36m\u2502\u001b[0m \u001b[1;38;2;227;227;221;48;2;39;40;34m  \u001b[0m\u001b[38;2;101;102;96;48;2;39;40;34m15 \u001b[0m\u001b[38;2;248;248;242;48;2;39;40;34m      \u001b[0m\u001b[38;2;230;219;116;48;2;39;40;34m\"2110ee3033c74cc5452c2e431229c0f73f5b9c1c\"\u001b[0m\u001b[48;2;39;40;34m                                                          \u001b[0m \u001b[36m\u2502\u001b[0m\n",
              "\u001b[36m\u2502\u001b[0m \u001b[1;38;2;227;227;221;48;2;39;40;34m  \u001b[0m\u001b[38;2;101;102;96;48;2;39;40;34m16 \u001b[0m\u001b[38;2;248;248;242;48;2;39;40;34m    \u001b[0m\u001b[38;2;248;248;242;48;2;39;40;34m],\u001b[0m\u001b[48;2;39;40;34m                                                                                                    \u001b[0m \u001b[36m\u2502\u001b[0m\n",
              "\u001b[36m\u2502\u001b[0m \u001b[1;38;2;227;227;221;48;2;39;40;34m  \u001b[0m\u001b[38;2;101;102;96;48;2;39;40;34m17 \u001b[0m\u001b[38;2;248;248;242;48;2;39;40;34m    \u001b[0m\u001b[38;2;255;70;137;48;2;39;40;34m\"gpg_signature\"\u001b[0m\u001b[38;2;248;248;242;48;2;39;40;34m:\u001b[0m\u001b[38;2;248;248;242;48;2;39;40;34m \u001b[0m\u001b[38;2;102;217;239;48;2;39;40;34mnull\u001b[0m\u001b[48;2;39;40;34m                                                                                 \u001b[0m \u001b[36m\u2502\u001b[0m\n",
              "\u001b[36m\u2502\u001b[0m \u001b[1;38;2;227;227;221;48;2;39;40;34m  \u001b[0m\u001b[38;2;101;102;96;48;2;39;40;34m18 \u001b[0m\u001b[38;2;248;248;242;48;2;39;40;34m  \u001b[0m\u001b[38;2;248;248;242;48;2;39;40;34m},\u001b[0m\u001b[48;2;39;40;34m                                                                                                      \u001b[0m \u001b[36m\u2502\u001b[0m\n",
              "\u001b[36m\u2502\u001b[0m \u001b[1;38;2;227;227;221;48;2;39;40;34m  \u001b[0m\u001b[38;2;101;102;96;48;2;39;40;34m19 \u001b[0m\u001b[38;2;248;248;242;48;2;39;40;34m  \u001b[0m\u001b[38;2;255;70;137;48;2;39;40;34m\"summary\"\u001b[0m\u001b[38;2;248;248;242;48;2;39;40;34m:\u001b[0m\u001b[38;2;248;248;242;48;2;39;40;34m \u001b[0m\u001b[38;2;230;219;116;48;2;39;40;34m\"feat(dev): add Jupyter notebook support with dependencies\"\u001b[0m\u001b[38;2;248;248;242;48;2;39;40;34m,\u001b[0m\u001b[48;2;39;40;34m                                 \u001b[0m \u001b[36m\u2502\u001b[0m\n",
              "\u001b[36m\u2502\u001b[0m \u001b[1;38;2;227;227;221;48;2;39;40;34m  \u001b[0m\u001b[38;2;101;102;96;48;2;39;40;34m20 \u001b[0m\u001b[38;2;248;248;242;48;2;39;40;34m  \u001b[0m\u001b[38;2;255;70;137;48;2;39;40;34m\"message\"\u001b[0m\u001b[38;2;248;248;242;48;2;39;40;34m:\u001b[0m\u001b[38;2;248;248;242;48;2;39;40;34m \u001b[0m\u001b[38;2;237;0;126;48;2;30;0;16m\"feat(dev): add Jupyter notebook support with dependencies\\n\\n- Add notebook dependencies to \u001b[0m \u001b[36m\u2502\u001b[0m\n",
              "\u001b[36m\u2570\u2500\u2500\u2500\u2500\u2500\u2500\u2500\u2500\u2500\u2500\u2500\u2500\u2500\u2500\u2500\u2500\u2500\u2500\u2500\u2500\u2500\u2500\u2500\u2500\u2500\u2500\u2500\u2500\u2500\u2500\u2500\u2500\u2500\u2500\u2500\u2500\u2500\u2500\u2500\u2500\u2500\u2500\u2500\u2500\u2500\u2500\u2500\u2500\u2500\u2500\u2500\u2500\u2500\u2500\u2500\u2500\u2500\u2500\u2500\u2500\u2500\u2500\u2500\u2500\u2500\u2500\u2500\u2500\u2500\u2500\u2500\u2500\u2500\u2500\u2500\u2500\u2500\u2500\u2500\u2500\u2500\u2500\u2500\u2500\u2500\u2500\u2500\u2500\u2500\u2500\u2500\u2500\u2500\u2500\u2500\u2500\u2500\u2500\u2500\u2500\u2500\u2500\u2500\u2500\u2500\u2500\u2500\u2500\u2500\u2500\u2500\u2500\u2500\u256f\u001b[0m\n"
            ]
          },
          "metadata": {},
          "output_type": "display_data"
        },
        {
          "data": {
            "text/html": [
              "<pre style=\"white-space:pre;overflow-x:auto;line-height:normal;font-family:Menlo,'DejaVu Sans Mono',consolas,'Courier New',monospace\">\n",
              "<span style=\"color: #008000; text-decoration-color: #008000\">\u2705 Exported all </span><span style=\"color: #008000; text-decoration-color: #008000; font-weight: bold\">5</span><span style=\"color: #008000; text-decoration-color: #008000\"> commits to:</span> <span style=\"color: #800080; text-decoration-color: #800080\">/home/aj/code/auto-release-note-generation/notebooks/</span><span style=\"color: #ff00ff; text-decoration-color: #ff00ff\">commit_objects_export.json</span>\n",
              "</pre>\n"
            ],
            "text/plain": [
              "\n",
              "\u001b[32m\u2705 Exported all \u001b[0m\u001b[1;32m5\u001b[0m\u001b[32m commits to:\u001b[0m \u001b[35m/home/aj/code/auto-release-note-generation/notebooks/\u001b[0m\u001b[95mcommit_objects_export.json\u001b[0m\n"
            ]
          },
          "metadata": {},
          "output_type": "display_data"
        }
      ],
      "source": [
        "# Export commits to JSON for inspection\n",
        "if commit_objects:\n",
        "    console.print(\"\\n[bold cyan]JSON Export[/bold cyan]\\n\")\n",
        "\n",
        "    # Export the first commit as formatted JSON\n",
        "    first_commit_json = commit_objects[0].model_dump_json(indent=2)\n",
        "\n",
        "    # Show a preview of the JSON structure\n",
        "    json_preview = (\n",
        "        first_commit_json[:800] + \"...\"\n",
        "        if len(first_commit_json) > 800\n",
        "        else first_commit_json\n",
        "    )\n",
        "\n",
        "    syntax = Syntax(json_preview, \"json\", theme=\"monokai\", line_numbers=True)\n",
        "    console.print(\n",
        "        Panel(\n",
        "            syntax,\n",
        "            title=f\"JSON Export Preview: {commit_objects[0].get_short_sha()}\",\n",
        "            border_style=\"cyan\",\n",
        "        )\n",
        "    )\n",
        "\n",
        "    # Save all commits to a JSON file\n",
        "    all_commits_data = [commit.model_dump() for commit in commit_objects]\n",
        "    output_file = project_root / \"notebooks\" / \"commit_objects_export.json\"\n",
        "\n",
        "    with open(output_file, \"w\") as f:\n",
        "        json.dump(all_commits_data, f, indent=2, default=str)\n",
        "\n",
        "    num_commits = len(commit_objects)\n",
        "    console.print(\n",
        "        f\"\\n[green]\u2705 Exported all {num_commits} commits to:[/green] {output_file}\"\n",
        "    )"
      ]
    }
  ],
  "metadata": {
    "kernelspec": {
      "display_name": "auto-release-note-generation",
      "language": "python",
      "name": "auto-release-note-generation"
    },
    "language_info": {
      "codemirror_mode": {
        "name": "ipython",
        "version": 3
      },
      "file_extension": ".py",
      "mimetype": "text/x-python",
      "name": "python",
      "nbconvert_exporter": "python",
      "pygments_lexer": "ipython3",
      "version": "3.10.12"
    }
  },
  "nbformat": 4,
  "nbformat_minor": 4
}
